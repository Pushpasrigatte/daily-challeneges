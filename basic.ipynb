{
 "cells": [
  {
   "cell_type": "markdown",
   "id": "afb1bce9",
   "metadata": {},
   "source": [
    "#### Write a Python program to print \"Hello Python\"."
   ]
  },
  {
   "cell_type": "code",
   "execution_count": null,
   "id": "3c8c0ebb",
   "metadata": {},
   "outputs": [],
   "source": [
    "\n",
    "print(\"hello world\") "
   ]
  },
  {
   "cell_type": "markdown",
   "id": "467d41f8",
   "metadata": {},
   "source": [
    "#### Write a Python program to do arithmetical operations addition and division."
   ]
  },
  {
   "cell_type": "code",
   "execution_count": null,
   "id": "201c0c9a",
   "metadata": {},
   "outputs": [],
   "source": [
    "\n",
    "a = int(input(\"Enter one number: \"))\n",
    "b = int(input(\"Enter another number: \"))\n",
    "\n",
    "while True:\n",
    "    print(\"\\nChoose an operation:\")\n",
    "    print(\"1. Addition\")\n",
    "    print(\"2. Subtraction\")\n",
    "    print(\"3. Multiplication\")\n",
    "    print(\"4. Division\")\n",
    "    print(\"5. Modulus\")\n",
    "    print(\"6. Exit\")\n",
    "\n",
    "    \n",
    "    choice = int(input(\"Enter your choice : \"))\n",
    "\n",
    "    if choice == 1:\n",
    "        print(f\"Addition: {a} + {b} = {a + b}\")\n",
    "    elif choice == 2:\n",
    "        print(f\"Subtraction: {a} - {b} = {a - b}\")\n",
    "    elif choice == 3:\n",
    "        print(f\"Multiplication: {a} * {b} = {a * b}\")\n",
    "    elif choice == 4:\n",
    "        if b != 0:  \n",
    "            print(f\"Division: {a} / {b} = {a / b}\")\n",
    "        else:\n",
    "            print(\"Error! Division by zero is not allowed.\")\n",
    "    elif choice == 5:\n",
    "        print(f\"Modulus: {a} % {b} = {a % b}\")\n",
    "    elif choice == 6:\n",
    "        print(\"Exiting... Goodbye!\")\n",
    "        break  \n",
    "    else:\n",
    "        print(\"Invalid choice!\")\n"
   ]
  },
  {
   "cell_type": "markdown",
   "id": "4d70afac",
   "metadata": {},
   "source": [
    "#### Write a Python program to find the area of a triangle."
   ]
  },
  {
   "cell_type": "code",
   "execution_count": null,
   "id": "d68c1aad",
   "metadata": {},
   "outputs": [],
   "source": [
    "l=int(input(\"enter the number:\"))\n",
    "b=int(input(\"enter the another number:\"))\n",
    "area=0.5*l*b\n",
    "print(\"area=\",area)\n"
   ]
  },
  {
   "cell_type": "markdown",
   "id": "5d41ac7b",
   "metadata": {},
   "source": [
    "#### Write a Python program to swap two variables."
   ]
  },
  {
   "cell_type": "code",
   "execution_count": null,
   "id": "4ff44e6c",
   "metadata": {},
   "outputs": [],
   "source": [
    "a=int(input())\n",
    "b=int(input())\n",
    "temp=a\n",
    "a=b\n",
    "b=temp\n",
    "print(a)\n",
    "print(b)\n",
    "\n"
   ]
  },
  {
   "cell_type": "markdown",
   "id": "2d3e86e0",
   "metadata": {},
   "source": [
    "#### Write a Python program to generate a random number."
   ]
  },
  {
   "cell_type": "code",
   "execution_count": null,
   "id": "1578ea24",
   "metadata": {},
   "outputs": [],
   "source": [
    "import random\n",
    "print(random.randint(1,100))"
   ]
  },
  {
   "cell_type": "markdown",
   "id": "be647554",
   "metadata": {},
   "source": [
    "#### Write a Python program to convert kilometers to miles."
   ]
  },
  {
   "cell_type": "code",
   "execution_count": null,
   "id": "15b07612",
   "metadata": {},
   "outputs": [],
   "source": [
    "km=float(input())\n",
    "m=km*0.621371\n",
    "print(m)"
   ]
  },
  {
   "cell_type": "markdown",
   "id": "000914ff",
   "metadata": {},
   "source": [
    "#### Write a Python program to convert Celsius to Fahrenheit."
   ]
  },
  {
   "cell_type": "code",
   "execution_count": null,
   "id": "530d737d",
   "metadata": {},
   "outputs": [],
   "source": [
    "c=float(input())\n",
    "f=(c*9/5)+32\n",
    "print(f)"
   ]
  },
  {
   "cell_type": "markdown",
   "id": "e532278f",
   "metadata": {},
   "source": [
    "#### Write a Python program to display calendar"
   ]
  },
  {
   "cell_type": "code",
   "execution_count": null,
   "id": "46868bcc",
   "metadata": {},
   "outputs": [],
   "source": [
    "import calendar \n",
    "\n",
    "yy = 2005\n",
    "mm = 2\n",
    "print(calendar.month(yy, mm)) "
   ]
  },
  {
   "cell_type": "code",
   "execution_count": null,
   "id": "934295a2",
   "metadata": {},
   "outputs": [],
   "source": [
    "print (calendar.calendar(2028)) "
   ]
  },
  {
   "cell_type": "markdown",
   "id": "7db899a4",
   "metadata": {},
   "source": [
    "#### Write a Python program to solve quadratic equation."
   ]
  },
  {
   "cell_type": "code",
   "execution_count": null,
   "id": "70a505db",
   "metadata": {},
   "outputs": [],
   "source": [
    "import cmath\n",
    "a=int(input(\"enter a value\"))\n",
    "b=int(input(\"enter b value\"))\n",
    "c=int(input(\"enter c value\"))\n",
    "d=(b**2)-(4*a*c)\n",
    "q=(-b-cmath.sqrt(d))/(2*a)\n",
    "r=(-b+cmath.sqrt(d))/(2*a)\n",
    "print(q)\n",
    "print(r)\n"
   ]
  },
  {
   "cell_type": "markdown",
   "id": "45b82f1e",
   "metadata": {},
   "source": [
    "#### Write a Python program to swap two variables without temp variable."
   ]
  },
  {
   "cell_type": "code",
   "execution_count": null,
   "id": "80f49f4e",
   "metadata": {},
   "outputs": [],
   "source": [
    "a=10\n",
    "b=15\n",
    "a,b=b,a\n",
    "print(a)\n",
    "print(b)"
   ]
  },
  {
   "cell_type": "markdown",
   "id": "26c2e3e3",
   "metadata": {},
   "source": [
    "#### Write a Python Program to Check if a Number is Positive, Negative or Zero."
   ]
  },
  {
   "cell_type": "code",
   "execution_count": null,
   "id": "f1dff181",
   "metadata": {},
   "outputs": [],
   "source": [
    "a=int(input())\n",
    "if a>0:\n",
    "    print(\"postive\")\n",
    "elif a<0:\n",
    "    print(\"negative\")\n",
    "else:\n",
    "    print(\"zero\")"
   ]
  },
  {
   "cell_type": "markdown",
   "id": "08b8c8a8",
   "metadata": {},
   "source": [
    "#### Write a Python Program to Check if a Number is Odd or Even."
   ]
  },
  {
   "cell_type": "code",
   "execution_count": null,
   "id": "171ac0ed",
   "metadata": {},
   "outputs": [],
   "source": [
    "a=int(input())\n",
    "if a%2==0:\n",
    "    print(\"even\")\n",
    "else:\n",
    "    print(\"odd\")"
   ]
  },
  {
   "cell_type": "markdown",
   "id": "0bca1973",
   "metadata": {},
   "source": [
    "#### Write a Python Program to Check Leap Year."
   ]
  },
  {
   "cell_type": "code",
   "execution_count": null,
   "id": "9c1df118",
   "metadata": {},
   "outputs": [],
   "source": [
    "import calendar\n",
    "year=int(input(\"enter a year\"))\n",
    "if calendar.isleap(year):\n",
    "    print(\"True\")\n",
    "else:\n",
    "    print(\"False\")"
   ]
  },
  {
   "cell_type": "code",
   "execution_count": null,
   "id": "2d15006c",
   "metadata": {},
   "outputs": [],
   "source": [
    "\n",
    "y=int(input())\n",
    "if (y%100==0) and (y%400==0):\n",
    "    print(\"TRUE\")\n",
    "elif(y%4==0) and (y%100!=0):\n",
    "    print(\"TRUE\")\n",
    "else:\n",
    "    print(\"FALSE\")"
   ]
  },
  {
   "cell_type": "markdown",
   "id": "3ed0c92a",
   "metadata": {},
   "source": [
    "#### Write a Python Program to Check Prime Number."
   ]
  },
  {
   "cell_type": "code",
   "execution_count": null,
   "id": "c47d427f",
   "metadata": {},
   "outputs": [],
   "source": [
    "\n",
    "num = int(input(\"Enter a number: \"))\n",
    "if num > 1:  # checking sign\n",
    "    for i in range(2, num):  \n",
    "        if num % i == 0:\n",
    "            print(\"Not a prime number\")\n",
    "            break\n",
    "    else:\n",
    "        print(\"Prime number\")\n",
    "else:\n",
    "    print(\"Not a prime number\")\n"
   ]
  },
  {
   "cell_type": "markdown",
   "id": "9e5c414c",
   "metadata": {},
   "source": [
    "#### Write a Python Program to Print all Prime Numbers in an Interval of 1-10."
   ]
  },
  {
   "cell_type": "code",
   "execution_count": null,
   "id": "b507daeb",
   "metadata": {},
   "outputs": [],
   "source": [
    "\n",
    "end= int(input(\"Enter a number: \"))\n",
    "for num in range(1,end+1):   \n",
    "    if num > 1:  # checking sign\n",
    "        for i in range(2,num):  \n",
    "            if num % i == 0:\n",
    "                break\n",
    "        else:\n",
    "            print(num)\n"
   ]
  },
  {
   "cell_type": "markdown",
   "id": "0d3987b7",
   "metadata": {},
   "source": [
    "#### Write a Python Program to Find the Factorial of a Number."
   ]
  },
  {
   "cell_type": "code",
   "execution_count": null,
   "id": "3f6c25e8",
   "metadata": {},
   "outputs": [],
   "source": [
    "\n",
    "num=int(input())\n",
    "fact=1\n",
    "if num<0:\n",
    "     print(\"-ve num don't have factorial\")\n",
    "elif num==0:\n",
    "    print(\"0-fact=1\")\n",
    "else:\n",
    "    for i in range(1,num+1):\n",
    "       fact=fact*i\n",
    "    print(fact)\n",
    "\n",
    "   "
   ]
  },
  {
   "cell_type": "markdown",
   "id": "ff1ea715",
   "metadata": {},
   "source": [
    "#### Write a Python Program to Display the multiplication Table."
   ]
  },
  {
   "cell_type": "code",
   "execution_count": null,
   "id": "9848a6c3",
   "metadata": {},
   "outputs": [],
   "source": [
    "n=int(input())\n",
    "for i in range(1,11):\n",
    "    print(f\"{n}x{i}={n*i}\")"
   ]
  },
  {
   "cell_type": "markdown",
   "id": "803ca27c",
   "metadata": {},
   "source": [
    "#### Write a Python Program to Print the Fibonacci sequence."
   ]
  },
  {
   "cell_type": "code",
   "execution_count": null,
   "id": "08e91dfc",
   "metadata": {},
   "outputs": [],
   "source": [
    "def fib(n):\n",
    "    a, b = 0, 1\n",
    "    if n < 0:\n",
    "        print(\"Enter a positive number\")\n",
    "    elif n == 1:\n",
    "        print(a)\n",
    "    else:\n",
    "        for _ in range(n):\n",
    "            print(a)\n",
    "            a, b = b, a + b\n",
    "\n",
    "n = int(input(\"Enter the number of terms: \"))\n",
    "fib(n)\n"
   ]
  },
  {
   "cell_type": "code",
   "execution_count": null,
   "id": "33e36d25",
   "metadata": {},
   "outputs": [],
   "source": [
    "def fib(n):\n",
    "    a, b = 0, 1\n",
    "    list = []\n",
    "    if n < 0:\n",
    "        return \"Enter a positive number\"\n",
    "    elif n == 1:\n",
    "        list.append(a)\n",
    "    else:\n",
    "        for _ in range(n):\n",
    "            list.append(a)\n",
    "            a, b = b, a + b\n",
    "    return list\n",
    "\n",
    "n = int(input(\"Enter the number of terms: \"))\n",
    "fib(n)\n",
    "\n"
   ]
  },
  {
   "cell_type": "markdown",
   "id": "fa26277a",
   "metadata": {},
   "source": [
    "#### Write a Python Program to Check Armstrong Number?"
   ]
  },
  {
   "cell_type": "code",
   "execution_count": null,
   "id": "73a48c74",
   "metadata": {},
   "outputs": [],
   "source": [
    "n = int(input())\n",
    "temp = n \n",
    "sum = 0\n",
    "\n",
    "while temp > 0:\n",
    "    z = temp % 10\n",
    "    l = z ** 3\n",
    "    sum += l\n",
    "    temp = temp // 10  \n",
    "\n",
    "if sum == n:\n",
    "    print(\"True\")\n",
    "else:\n",
    "    print(\"False\")\n"
   ]
  },
  {
   "cell_type": "markdown",
   "id": "04590fd7",
   "metadata": {},
   "source": [
    "#### Write a Python Program to Find Armstrong Number in an Interval"
   ]
  },
  {
   "cell_type": "code",
   "execution_count": 15,
   "id": "8a3d32ec",
   "metadata": {},
   "outputs": [
    {
     "name": "stdout",
     "output_type": "stream",
     "text": [
      "1634 True\n",
      "8208 True\n",
      "9474 True\n"
     ]
    }
   ],
   "source": [
    "m = int(input())\n",
    "z = int(input())\n",
    "for num in range(m,z+1):\n",
    "    num_n=len(str(num))\n",
    "    temp = num\n",
    "    sum = 0\n",
    "\n",
    "\n",
    "    while temp > 0:\n",
    "       p = temp % 10\n",
    "       sum += p**num_n\n",
    "       temp = temp // 10  \n",
    "\n",
    "    if sum == num:\n",
    "        print(num,\"True\")\n",
    "\n"
   ]
  },
  {
   "cell_type": "markdown",
   "id": "4569d449",
   "metadata": {},
   "source": [
    "#### Write a Python Program to Find the Sum of Natural Numbers."
   ]
  },
  {
   "cell_type": "code",
   "execution_count": null,
   "id": "8791bbfc",
   "metadata": {},
   "outputs": [],
   "source": [
    "\n",
    "num=int(input())\n",
    "sum=0\n",
    "for i in range(0,num+1):\n",
    "    sum=sum+i\n",
    "print(sum)\n",
    "    "
   ]
  },
  {
   "cell_type": "markdown",
   "id": "d6319b24",
   "metadata": {},
   "source": [
    "#### Write a Python Program to Find LCM."
   ]
  },
  {
   "cell_type": "code",
   "execution_count": null,
   "id": "dac502cf",
   "metadata": {},
   "outputs": [],
   "source": []
  },
  {
   "cell_type": "markdown",
   "id": "0532f334",
   "metadata": {},
   "source": [
    "#### Write a Python Program to Find HCF"
   ]
  },
  {
   "cell_type": "markdown",
   "id": "509f999d",
   "metadata": {},
   "source": [
    "#### Write a Python Program to Convert Decimal to Binary, Octal and Hexadecimal."
   ]
  },
  {
   "cell_type": "code",
   "execution_count": null,
   "id": "5fd920a3",
   "metadata": {},
   "outputs": [],
   "source": [
    "\n",
    "b=int(input())\n",
    "print(bin(b))\n",
    "print(oct(b))\n",
    "print(hex(b))"
   ]
  },
  {
   "cell_type": "markdown",
   "id": "843e6c62",
   "metadata": {},
   "source": [
    "#### Write a Python Program To Find ASCII value of a character."
   ]
  },
  {
   "cell_type": "code",
   "execution_count": null,
   "id": "dc3f4ee1",
   "metadata": {},
   "outputs": [],
   "source": [
    "i=str(input())\n",
    "print(ord(i)) "
   ]
  },
  {
   "cell_type": "markdown",
   "id": "6f5eee0b",
   "metadata": {},
   "source": [
    "#### Write a Python Program to Make a Simple Calculator with 4 basic mathematical operations."
   ]
  },
  {
   "cell_type": "code",
   "execution_count": null,
   "id": "bf3d3d71",
   "metadata": {},
   "outputs": [],
   "source": [
    "import tkinter as tk\n",
    "from tkinter import messagebox\n",
    "\n",
    "\n",
    "def calculate():\n",
    "    try:\n",
    "        a = int(entry1.get())\n",
    "        b = int(entry2.get())\n",
    "        operation = operation_var.get()\n",
    "\n",
    "        if operation == \"Addition\":\n",
    "            result.set(f\"Result: {a + b}\")\n",
    "        elif operation == \"Subtraction\":\n",
    "            result.set(f\"Result: {a - b}\")\n",
    "        elif operation == \"Multiplication\":\n",
    "            result.set(f\"Result: {a * b}\")\n",
    "        elif operation == \"Division\":\n",
    "            if b != 0:\n",
    "                result.set(f\"Result: {a / b}\")\n",
    "            else:\n",
    "                messagebox.showerror(\"Error\", \"Division by zero is not allowed.\")\n",
    "        elif operation == \"Modulus\":\n",
    "            result.set(f\"Result: {a % b}\")\n",
    "        else:\n",
    "            messagebox.showerror(\"Error\", \"Please select an operation.\")\n",
    "    except ValueError:\n",
    "        messagebox.showerror(\"Error\", \"Please enter valid numbers.\")\n",
    "\n",
    "\n",
    "root = tk.Tk()\n",
    "root.title(\"Simple Calculator\")\n",
    "\n",
    "\n",
    "tk.Label(root, text=\"Enter first number:\").grid(row=0, column=0)\n",
    "entry1 = tk.Entry(root)\n",
    "entry1.grid(row=0, column=1)\n",
    "\n",
    "tk.Label(root, text=\"Enter second number:\").grid(row=1, column=0)\n",
    "entry2 = tk.Entry(root)\n",
    "entry2.grid(row=1, column=1)\n",
    "\n",
    "\n",
    "tk.Label(root, text=\"Choose operation:\").grid(row=2, column=0)\n",
    "operation_var = tk.StringVar()\n",
    "operations = [\"Addition\", \"Subtraction\", \"Multiplication\", \"Division\", \"Modulus\"]\n",
    "operation_menu = tk.OptionMenu(root, operation_var, *operations)\n",
    "operation_menu.grid(row=2, column=1)\n",
    "\n",
    "\n",
    "tk.Button(root, text=\"Calculate\", command=calculate).grid(row=3, columnspan=2)\n",
    "\n",
    "\n",
    "result = tk.StringVar()\n",
    "tk.Label(root, textvariable=result, font=(\"Arial\", 12)).grid(row=4, columnspan=2)\n",
    "\n",
    "\n",
    "root.mainloop()\n"
   ]
  },
  {
   "cell_type": "markdown",
   "id": "6df8b4e4",
   "metadata": {},
   "source": [
    "#### Write a Python Program to Display Fibonacci Sequence Using Recursion."
   ]
  },
  {
   "cell_type": "code",
   "execution_count": null,
   "id": "61445d7f",
   "metadata": {},
   "outputs": [],
   "source": [
    "def fib_recursive(n):\n",
    "    if n <= 0:\n",
    "        return []\n",
    "    elif n == 1:\n",
    "        return [0]\n",
    "    elif n == 2:\n",
    "        return [0, 1]\n",
    "    else:\n",
    "        seq = fib_recursive(n - 1)\n",
    "        seq.append(seq[-1] + seq[-2])\n",
    "        return seq\n",
    "\n",
    "n = int(input(\"Enter the number of terms: \"))\n",
    "res = fib_recursive(n)\n",
    "print(\"Fibonacci sequence:\", res)\n"
   ]
  },
  {
   "cell_type": "markdown",
   "id": "632ba652",
   "metadata": {},
   "source": [
    "#### Write a Python Program to Find Factorial of Number Using Recursion."
   ]
  },
  {
   "cell_type": "code",
   "execution_count": null,
   "id": "220ec20b",
   "metadata": {},
   "outputs": [],
   "source": [
    "\n",
    "def fact(n):\n",
    "    if n==0 or n==1:\n",
    "        return 1\n",
    "    return n*fact(n-1)\n",
    "n=int(input())\n",
    "res=fact(n)\n",
    "print(res)\n"
   ]
  },
  {
   "cell_type": "markdown",
   "id": "1224d661",
   "metadata": {},
   "source": [
    "#### Write a Python Program to calculate your Body Mass Index"
   ]
  },
  {
   "cell_type": "markdown",
   "id": "bde2e393",
   "metadata": {},
   "source": [
    "#### Write a Python Program to calculate the natural logarithm of any number."
   ]
  },
  {
   "cell_type": "code",
   "execution_count": null,
   "id": "f3a593bf",
   "metadata": {},
   "outputs": [],
   "source": [
    "#log of a num\n",
    "import math\n",
    "n=float(input())\n",
    "print(math.log(n))\n"
   ]
  },
  {
   "cell_type": "markdown",
   "id": "b183c17f",
   "metadata": {},
   "source": [
    "#### Write a Python Program for cube sum of first n natural numbers?"
   ]
  },
  {
   "cell_type": "code",
   "execution_count": null,
   "id": "7f8a7874",
   "metadata": {},
   "outputs": [],
   "source": [
    "n=int(input())\n",
    "sum=0\n",
    "for i in range(1,n+1):\n",
    "    m=i**3\n",
    "    sum=sum+m\n",
    "print(sum)\n"
   ]
  },
  {
   "cell_type": "markdown",
   "id": "a414d875",
   "metadata": {},
   "source": [
    "#### Write a Python Program to find sum of array."
   ]
  },
  {
   "cell_type": "code",
   "execution_count": null,
   "id": "a0c57178",
   "metadata": {},
   "outputs": [],
   "source": [
    "#sum of array\n",
    "def sum(arr):\n",
    "    sum=0\n",
    "    for i in arr:\n",
    "        sum=sum+i\n",
    "    return sum\n",
    "# Taking input as a space-separated string\n",
    "arr = list(map(int, input(\"Enter numbers separated by space: \").split()))\n",
    "res=sum(arr)\n",
    "print(res)\n",
    "    "
   ]
  },
  {
   "cell_type": "markdown",
   "id": "08e06b05",
   "metadata": {},
   "source": [
    "#### Write a Python Program to find largest element in an array"
   ]
  },
  {
   "cell_type": "code",
   "execution_count": null,
   "id": "a118bb99",
   "metadata": {},
   "outputs": [],
   "source": [
    "def pushpa(arr):\n",
    "    if not arr:\n",
    "        return \"array is empty\"\n",
    "    l=arr[0]\n",
    "    for e in arr:\n",
    "        if e>l:\n",
    "            l=e\n",
    "    return l\n",
    "arr=list(map(int, input(\"enter elements:\").split()))\n",
    "res=pushpa(arr)\n",
    "print(res)"
   ]
  },
  {
   "cell_type": "markdown",
   "id": "d00cb446",
   "metadata": {},
   "source": [
    "#### Write a Python Program to Add Two Matrices."
   ]
  },
  {
   "cell_type": "markdown",
   "id": "2bad6ad7",
   "metadata": {},
   "source": [
    "#### Write a Python Program for array rotation."
   ]
  },
  {
   "cell_type": "markdown",
   "id": "02cad64b",
   "metadata": {},
   "source": [
    "#### Write a Python Program to Split the array and add the first part to the end?"
   ]
  },
  {
   "cell_type": "markdown",
   "id": "66848a41",
   "metadata": {},
   "source": [
    "#### Write a Python Program to check if given array is Monotonic"
   ]
  },
  {
   "cell_type": "markdown",
   "id": "8987efa5",
   "metadata": {},
   "source": [
    "#### Write a Python Program to Multiply Two Matrices"
   ]
  },
  {
   "cell_type": "markdown",
   "id": "a2b7156a",
   "metadata": {},
   "source": [
    "#### Write a Python Program to Transpose a Matrix"
   ]
  },
  {
   "cell_type": "markdown",
   "id": "343f6d05",
   "metadata": {},
   "source": [
    "#### Write a Python Program to Sort Words in Alphabetic Order."
   ]
  },
  {
   "cell_type": "markdown",
   "id": "288407c5",
   "metadata": {},
   "source": []
  }
 ],
 "metadata": {
  "kernelspec": {
   "display_name": "Python 3",
   "language": "python",
   "name": "python3"
  },
  "language_info": {
   "codemirror_mode": {
    "name": "ipython",
    "version": 3
   },
   "file_extension": ".py",
   "mimetype": "text/x-python",
   "name": "python",
   "nbconvert_exporter": "python",
   "pygments_lexer": "ipython3",
   "version": "3.12.10"
  }
 },
 "nbformat": 4,
 "nbformat_minor": 5
}
