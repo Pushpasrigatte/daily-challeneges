{
 "cells": [
  {
   "cell_type": "code",
   "execution_count": 1,
   "id": "e34a5770",
   "metadata": {},
   "outputs": [
    {
     "name": "stdout",
     "output_type": "stream",
     "text": [
      "FALSE\n"
     ]
    }
   ],
   "source": [
    "# leap year\n",
    "y=int(input())\n",
    "if (y%100==0) and (y%400==0):\n",
    "    print(\"TRUE\")\n",
    "elif(y%4==0) and (y%100!=0):\n",
    "    print(\"TRUE\")\n",
    "else:\n",
    "    print(\"FALSE\")"
   ]
  },
  {
   "cell_type": "code",
   "execution_count": null,
   "id": "c47d427f",
   "metadata": {},
   "outputs": [],
   "source": [
    "# prime number\n",
    "num = int(input(\"Enter a number: \"))\n",
    "if num > 1:  # checking sign\n",
    "    for i in range(2, num):  \n",
    "        if num % i == 0:\n",
    "            print(\"Not a prime number\")\n",
    "            break\n",
    "    else:\n",
    "        print(\"Prime number\")\n",
    "else:\n",
    "    print(\"Not a prime number\")\n"
   ]
  },
  {
   "cell_type": "code",
   "execution_count": 8,
   "id": "b507daeb",
   "metadata": {},
   "outputs": [
    {
     "name": "stdout",
     "output_type": "stream",
     "text": [
      "2\n",
      "3\n",
      "5\n",
      "7\n"
     ]
    }
   ],
   "source": [
    "#Write a Python Program to Print all Prime Numbers in an Interval of 1-10.\n",
    "end= int(input(\"Enter a number: \"))\n",
    "for num in range(1,end+1):   \n",
    "    if num > 1:  # checking sign\n",
    "        for i in range(2,num):  \n",
    "            if num % i == 0:\n",
    "                break\n",
    "        else:\n",
    "            print(num)\n"
   ]
  },
  {
   "cell_type": "code",
   "execution_count": 24,
   "id": "3f6c25e8",
   "metadata": {},
   "outputs": [
    {
     "name": "stdout",
     "output_type": "stream",
     "text": [
      "24\n"
     ]
    }
   ],
   "source": [
    "# factorial\n",
    "num=int(input())\n",
    "fact=1\n",
    "if num<0:\n",
    "     print(\"-ve num don't have factorial\")\n",
    "elif num==0:\n",
    "    print(\"0 fact=1\")\n",
    "else:\n",
    "    for i in range(1,num+1):\n",
    "       fact=fact*i\n",
    "    print(fact)\n",
    "\n",
    "   "
   ]
  },
  {
   "cell_type": "code",
   "execution_count": 27,
   "id": "8791bbfc",
   "metadata": {},
   "outputs": [
    {
     "name": "stdout",
     "output_type": "stream",
     "text": [
      "55\n"
     ]
    }
   ],
   "source": [
    "#Write a Python Program to Find the Sum of Natural Numbers.\n",
    "num=int(input())\n",
    "sum=0\n",
    "for i in range(0,num+1):\n",
    "    sum=sum+i\n",
    "print(sum)\n",
    "    "
   ]
  },
  {
   "cell_type": "code",
   "execution_count": 29,
   "id": "5fd920a3",
   "metadata": {},
   "outputs": [
    {
     "name": "stdout",
     "output_type": "stream",
     "text": [
      "0b11011\n",
      "0o33\n",
      "0x1b\n"
     ]
    }
   ],
   "source": [
    "#Write a Python Program to Convert Decimal to Binary, Octal and Hexadecimal.\n",
    "b=int(input())\n",
    "print(bin(b))\n",
    "print(oct(b))\n",
    "print(hex(b))"
   ]
  },
  {
   "cell_type": "code",
   "execution_count": 31,
   "id": "dc3f4ee1",
   "metadata": {},
   "outputs": [
    {
     "name": "stdout",
     "output_type": "stream",
     "text": [
      "112\n"
     ]
    }
   ],
   "source": [
    "#Write a Python Program To Find ASCII value of a character.\n",
    "i=str(input())\n",
    "print(ord(i)) "
   ]
  },
  {
   "cell_type": "code",
   "execution_count": 37,
   "id": "220ec20b",
   "metadata": {},
   "outputs": [
    {
     "name": "stdout",
     "output_type": "stream",
     "text": [
      "120\n"
     ]
    }
   ],
   "source": [
    "#Write a Python Program to Find Factorial of Number Using Recursion\n",
    "def fact(n):\n",
    "    if n==0 or n==1:\n",
    "        return 1\n",
    "    return n*fact(n-1)\n",
    "n=int(input())\n",
    "res=fact(n)\n",
    "print(res)\n"
   ]
  },
  {
   "cell_type": "code",
   "execution_count": 50,
   "id": "f3a593bf",
   "metadata": {},
   "outputs": [
    {
     "name": "stdout",
     "output_type": "stream",
     "text": [
      "0.3364722366212129\n"
     ]
    }
   ],
   "source": [
    "#log of a num\n",
    "import math\n",
    "n=float(input())\n",
    "print(math.log(n))\n"
   ]
  },
  {
   "cell_type": "code",
   "execution_count": 52,
   "id": "a0c57178",
   "metadata": {},
   "outputs": [
    {
     "name": "stdout",
     "output_type": "stream",
     "text": [
      "6\n"
     ]
    }
   ],
   "source": [
    "#sum of array\n",
    "def sum(arr):\n",
    "    sum=0\n",
    "    for i in arr:\n",
    "        sum=sum+i\n",
    "    return sum\n",
    "# Taking input as a space-separated string\n",
    "arr = list(map(int, input(\"Enter numbers separated by space: \").split()))\n",
    "res=sum(arr)\n",
    "print(res)\n",
    "    "
   ]
  },
  {
   "cell_type": "markdown",
   "id": "08e06b05",
   "metadata": {},
   "source": [
    "## find largest element in an array"
   ]
  },
  {
   "cell_type": "code",
   "execution_count": 2,
   "id": "a118bb99",
   "metadata": {},
   "outputs": [
    {
     "name": "stdout",
     "output_type": "stream",
     "text": [
      "9\n"
     ]
    }
   ],
   "source": [
    "def pushpa(arr):\n",
    "    if not arr:\n",
    "        return \"array is empty\"\n",
    "    large_elem=arr[0]\n",
    "    for elem in arr:\n",
    "        if elem>large_elem:\n",
    "            large_elem=elem\n",
    "    return large_elem\n",
    "arr=list(map(int, input(\"enter elements:\").split()))\n",
    "res=pushpa(arr)\n",
    "print(res)"
   ]
  },
  {
   "cell_type": "code",
   "execution_count": null,
   "id": "5ce7f308",
   "metadata": {},
   "outputs": [],
   "source": []
  }
 ],
 "metadata": {
  "kernelspec": {
   "display_name": "Python 3",
   "language": "python",
   "name": "python3"
  },
  "language_info": {
   "codemirror_mode": {
    "name": "ipython",
    "version": 3
   },
   "file_extension": ".py",
   "mimetype": "text/x-python",
   "name": "python",
   "nbconvert_exporter": "python",
   "pygments_lexer": "ipython3",
   "version": "3.12.10"
  }
 },
 "nbformat": 4,
 "nbformat_minor": 5
}
