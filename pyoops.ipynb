{
 "cells": [
  {
   "cell_type": "code",
   "execution_count": 54,
   "id": "e65aae11",
   "metadata": {},
   "outputs": [
    {
     "name": "stdout",
     "output_type": "stream",
     "text": [
      "make a call\n",
      "songs is playing\n"
     ]
    }
   ],
   "source": [
    "class phone():\n",
    "    def calling(self):\n",
    "        print(\"make a call\")\n",
    "    def play_songs(self):\n",
    "        print(\"songs is playing\")\n",
    "p1=phone()\n",
    "p1.calling() \n",
    "p1.play_songs()      "
   ]
  },
  {
   "cell_type": "markdown",
   "id": "c58340a8",
   "metadata": {},
   "source": [
    "#### adding parameters to the class"
   ]
  },
  {
   "cell_type": "code",
   "execution_count": 57,
   "id": "6dcb732f",
   "metadata": {},
   "outputs": [],
   "source": [
    "class phone():\n",
    "    def set_color(self,color):\n",
    "        self.color=color\n",
    "    def set_cost(self,cost):\n",
    "        self.cost=cost\n",
    "    def show_color(self):\n",
    "        return self.color\n",
    "    def show_cost(self):\n",
    "        return self.cost\n",
    "    def calling(self):\n",
    "        print(\"make a call\")\n",
    "    def play_songs(self):\n",
    "        print(\"songs is playing\")"
   ]
  },
  {
   "cell_type": "code",
   "execution_count": 62,
   "id": "47d31298",
   "metadata": {},
   "outputs": [
    {
     "data": {
      "text/plain": [
       "1000"
      ]
     },
     "execution_count": 62,
     "metadata": {},
     "output_type": "execute_result"
    }
   ],
   "source": [
    "p1=phone()\n",
    "\n",
    "p1.set_cost(1000)\n",
    "\n",
    "p1.show_cost()\n",
    "\n"
   ]
  },
  {
   "cell_type": "code",
   "execution_count": 61,
   "id": "fe4322a1",
   "metadata": {},
   "outputs": [
    {
     "data": {
      "text/plain": [
       "'pink'"
      ]
     },
     "execution_count": 61,
     "metadata": {},
     "output_type": "execute_result"
    }
   ],
   "source": [
    "p1.set_color(\"pink\")\n",
    "\n",
    "p1.show_color()"
   ]
  }
 ],
 "metadata": {
  "kernelspec": {
   "display_name": "Python 3",
   "language": "python",
   "name": "python3"
  },
  "language_info": {
   "codemirror_mode": {
    "name": "ipython",
    "version": 3
   },
   "file_extension": ".py",
   "mimetype": "text/x-python",
   "name": "python",
   "nbconvert_exporter": "python",
   "pygments_lexer": "ipython3",
   "version": "3.12.10"
  }
 },
 "nbformat": 4,
 "nbformat_minor": 5
}
