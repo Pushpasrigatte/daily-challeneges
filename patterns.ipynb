{
 "cells": [
  {
   "cell_type": "code",
   "execution_count": 1,
   "id": "440ef3e7",
   "metadata": {},
   "outputs": [
    {
     "name": "stdout",
     "output_type": "stream",
     "text": [
      "\n",
      "* \n",
      "* * \n",
      "* * * \n",
      "* * * * \n",
      "* * * * * \n"
     ]
    }
   ],
   "source": [
    "n=6\n",
    "for i in range(n):\n",
    "    for j in range(i):\n",
    "        print(\"*\",end=\" \")\n",
    "    print()"
   ]
  },
  {
   "cell_type": "code",
   "execution_count": 7,
   "id": "af04904d",
   "metadata": {},
   "outputs": [
    {
     "name": "stdout",
     "output_type": "stream",
     "text": [
      "\n",
      "* \n",
      "* * \n",
      "* * * \n",
      "* * * * \n",
      "* * * * * \n"
     ]
    }
   ],
   "source": [
    "for i in range(6):\n",
    "    print('* '*i)"
   ]
  },
  {
   "cell_type": "code",
   "execution_count": 15,
   "id": "ca8cad83",
   "metadata": {},
   "outputs": [
    {
     "name": "stdout",
     "output_type": "stream",
     "text": [
      "0 0 0 0 0 0 0 0 0 0 \n",
      "1 1 1 1 1 1 1 1 1 1 \n",
      "2 2 2 2 2 2 2 2 2 2 \n",
      "3 3 3 3 3 3 3 3 3 3 \n",
      "4 4 4 4 4 4 4 4 4 4 \n",
      "5 5 5 5 5 5 5 5 5 5 \n",
      "6 6 6 6 6 6 6 6 6 6 \n",
      "7 7 7 7 7 7 7 7 7 7 \n",
      "8 8 8 8 8 8 8 8 8 8 \n",
      "9 9 9 9 9 9 9 9 9 9 \n"
     ]
    }
   ],
   "source": [
    "n=10\n",
    "for i in range(n):\n",
    "    for j in range(n):\n",
    "        print(i,end=\" \")\n",
    "    print()"
   ]
  },
  {
   "cell_type": "code",
   "execution_count": 16,
   "id": "fa17b288",
   "metadata": {},
   "outputs": [
    {
     "name": "stdout",
     "output_type": "stream",
     "text": [
      "0 1 2 3 4 5 6 7 8 9 \n",
      "0 1 2 3 4 5 6 7 8 9 \n",
      "0 1 2 3 4 5 6 7 8 9 \n",
      "0 1 2 3 4 5 6 7 8 9 \n",
      "0 1 2 3 4 5 6 7 8 9 \n",
      "0 1 2 3 4 5 6 7 8 9 \n",
      "0 1 2 3 4 5 6 7 8 9 \n",
      "0 1 2 3 4 5 6 7 8 9 \n",
      "0 1 2 3 4 5 6 7 8 9 \n",
      "0 1 2 3 4 5 6 7 8 9 \n"
     ]
    }
   ],
   "source": [
    "n=10\n",
    "for i in range(n):\n",
    "    for j in range(n):\n",
    "        print(j,end=\" \")\n",
    "    print()"
   ]
  },
  {
   "cell_type": "code",
   "execution_count": 19,
   "id": "877d8be7",
   "metadata": {},
   "outputs": [
    {
     "name": "stdout",
     "output_type": "stream",
     "text": [
      "B \n",
      "B u \n",
      "B u j \n",
      "B u j j \n",
      "B u j j i \n"
     ]
    }
   ],
   "source": [
    "t=\"Bujji\"\n",
    "r=len(t)\n",
    "for i in range(r):\n",
    "    for j in range(i+1):\n",
    "        print(t[j],end=\" \")\n",
    "    print()"
   ]
  },
  {
   "cell_type": "code",
   "execution_count": 20,
   "id": "022c1ddf",
   "metadata": {},
   "outputs": [
    {
     "name": "stdout",
     "output_type": "stream",
     "text": [
      "B \n",
      "u u \n",
      "j j j \n",
      "j j j j \n",
      "i i i i i \n"
     ]
    }
   ],
   "source": [
    "t=\"Bujji\"\n",
    "r=len(t)\n",
    "for i in range(r):\n",
    "    for j in range(i+1):\n",
    "        print(t[i],end=\" \")\n",
    "    print()"
   ]
  },
  {
   "cell_type": "code",
   "execution_count": 23,
   "id": "5f0b33da",
   "metadata": {},
   "outputs": [
    {
     "name": "stdout",
     "output_type": "stream",
     "text": [
      "K \n",
      "K a \n",
      "K a n \n",
      "K a n n \n",
      "K a n n a \n",
      "K a n n a y \n",
      "K a n n a y y \n",
      "K a n n a y y a \n"
     ]
    }
   ],
   "source": [
    "t=\"Kannayya\"\n",
    "r=len(t)\n",
    "for i in range(r):\n",
    "    for j in range(i+1):\n",
    "        print(t[j],end=\" \")\n",
    "    print()"
   ]
  },
  {
   "cell_type": "code",
   "execution_count": 37,
   "id": "a3db7083",
   "metadata": {},
   "outputs": [
    {
     "name": "stdout",
     "output_type": "stream",
     "text": [
      "\n",
      "* \n",
      "* * \n",
      "*   * \n",
      "*     * \n",
      "*       * \n"
     ]
    }
   ],
   "source": [
    "n=6\n",
    "for i in range(n):\n",
    "    for j in range(i):\n",
    "        if j==i-1 or j==0 or i==0 or i==j-1: \n",
    "           print(\"*\",end=\" \")\n",
    "        else:\n",
    "            print(\" \",end=\" \")\n",
    "    print()"
   ]
  },
  {
   "cell_type": "code",
   "execution_count": 41,
   "id": "f2beb563",
   "metadata": {},
   "outputs": [
    {
     "name": "stdout",
     "output_type": "stream",
     "text": [
      "* * * * * * \n",
      "* *       * \n",
      "*   *     * \n",
      "*     *   * \n",
      "*       * * \n",
      "* * * * * * \n"
     ]
    }
   ],
   "source": [
    "n = 6\n",
    "for i in range(n):\n",
    "    for j in range(n):\n",
    "        if i == 0 or i == n - 1 or j==0 or j==n-1 or i==j:\n",
    "            print(\"*\", end=\" \")\n",
    "        else:\n",
    "            print(\" \", end=\" \")\n",
    "    print()"
   ]
  },
  {
   "cell_type": "code",
   "execution_count": 46,
   "id": "3cc2713d",
   "metadata": {},
   "outputs": [
    {
     "name": "stdout",
     "output_type": "stream",
     "text": [
      "*         \n",
      "* *       \n",
      "*   *     \n",
      "*     *   \n",
      "* * * * * \n"
     ]
    }
   ],
   "source": [
    "n = 5\n",
    "for i in range(n):\n",
    "    for j in range(n):\n",
    "        if i==j or j==0 or i==n-1:\n",
    "            print(\"*\", end=\" \")\n",
    "        else:\n",
    "            print(\" \", end=\" \")\n",
    "    print()"
   ]
  },
  {
   "cell_type": "code",
   "execution_count": 51,
   "id": "e21ebb92",
   "metadata": {},
   "outputs": [
    {
     "name": "stdout",
     "output_type": "stream",
     "text": [
      "*           * \n",
      "  *       *   \n",
      "    *   *     \n",
      "      *       \n",
      "    *   *     \n",
      "  *       *   \n",
      "*           * \n"
     ]
    }
   ],
   "source": [
    "n=int(input(\"enter size of n\"))\n",
    "for i in range(n):\n",
    "    for j in range(n):\n",
    "        if i==j or i+j==n-1:\n",
    "            print('*', end=' ')\n",
    "        else:\n",
    "            print(' ', end=' ')\n",
    "    print()"
   ]
  },
  {
   "cell_type": "code",
   "execution_count": null,
   "id": "a17e1e04",
   "metadata": {},
   "outputs": [
    {
     "name": "stdout",
     "output_type": "stream",
     "text": [
      "i: 0\n",
      "j 0\n",
      "j 1\n",
      "j 2\n",
      "j 3\n",
      "j 4\n",
      "j 5\n",
      "j 6\n",
      "i: 1\n",
      "j 0\n",
      "j 1\n",
      "j 2\n",
      "j 3\n",
      "j 4\n",
      "j 5\n",
      "j 6\n",
      "i: 2\n",
      "j 0\n",
      "j 1\n",
      "j 2\n",
      "j 3\n",
      "j 4\n",
      "j 5\n",
      "j 6\n",
      "i: 3\n",
      "j 0\n",
      "j 1\n",
      "j 2\n",
      "j 3\n",
      "j 4\n",
      "j 5\n",
      "j 6\n",
      "i: 4\n",
      "j 0\n",
      "j 1\n",
      "j 2\n",
      "j 3\n",
      "j 4\n",
      "j 5\n",
      "j 6\n",
      "i: 5\n",
      "j 0\n",
      "j 1\n",
      "j 2\n",
      "j 3\n",
      "j 4\n",
      "j 5\n",
      "j 6\n",
      "i: 6\n",
      "j 0\n",
      "j 1\n",
      "j 2\n",
      "j 3\n",
      "j 4\n",
      "j 5\n",
      "j 6\n"
     ]
    }
   ],
   "source": [
    "for i in range(n):\n",
    "    print(\"i:\",i)\n",
    "    for j in range(n):\n",
    "        print(\"j\",j)"
   ]
  },
  {
   "cell_type": "code",
   "execution_count": 63,
   "id": "68521f62",
   "metadata": {},
   "outputs": [
    {
     "name": "stdout",
     "output_type": "stream",
     "text": [
      "* * * * * * * * * * \n",
      "* *             * * \n",
      "*   *         *   * \n",
      "*     *     *     * \n",
      "*       * *       * \n",
      "*       * *       * \n",
      "*     *     *     * \n",
      "*   *         *   * \n",
      "* *             * * \n",
      "* * * * * * * * * * \n"
     ]
    }
   ],
   "source": [
    "n=int(input(\"enter size of n\"))\n",
    "for i in range(n):\n",
    "    for j in range(n):\n",
    "        if i==j or j==0 or j==n-1 or i+j==n-1 or i==0 or i==n-1:\n",
    "            print('*', end=' ')\n",
    "        else:\n",
    "            print(' ', end=' ')\n",
    "    print()"
   ]
  },
  {
   "cell_type": "code",
   "execution_count": 62,
   "id": "785e1340",
   "metadata": {},
   "outputs": [
    {
     "name": "stdout",
     "output_type": "stream",
     "text": [
      "*                 * \n",
      "* *             * * \n",
      "*   *         *   * \n",
      "*     *     *     * \n",
      "*       * *       * \n",
      "*       * *       * \n",
      "*     *     *     * \n",
      "*   *         *   * \n",
      "* *             * * \n",
      "*                 * \n"
     ]
    }
   ],
   "source": [
    "n=int(input(\"enter size of n\"))\n",
    "for i in range(n):\n",
    "    for j in range(n):\n",
    "        if i==j or j==0 or j==n-1 or i+j==n-1:\n",
    "            print('*', end=' ')\n",
    "        else:\n",
    "            print(' ', end=' ')\n",
    "    print()"
   ]
  },
  {
   "cell_type": "code",
   "execution_count": 59,
   "id": "e945323f",
   "metadata": {},
   "outputs": [
    {
     "name": "stdout",
     "output_type": "stream",
     "text": [
      "*       * \n",
      "  *   *   \n",
      "    *     \n",
      "  *   *   \n",
      "*       * \n"
     ]
    }
   ],
   "source": [
    "n=int(input(\"enter size of n\"))\n",
    "for i in range(n):\n",
    "    for j in range(n):\n",
    "        if i==j or i+j==n-1:\n",
    "            print('*', end=' ')\n",
    "        else:\n",
    "            print(' ', end=' ')\n",
    "    print()"
   ]
  },
  {
   "cell_type": "code",
   "execution_count": 65,
   "id": "cf5199c4",
   "metadata": {},
   "outputs": [
    {
     "name": "stdout",
     "output_type": "stream",
     "text": [
      "0 1 2 3 4 5 6 7 8 9 \n",
      "0 1             8 9 \n",
      "0   2         7   9 \n",
      "0     3     6     9 \n",
      "0       4 5       9 \n",
      "0       4 5       9 \n",
      "0     3     6     9 \n",
      "0   2         7   9 \n",
      "0 1             8 9 \n",
      "0 1 2 3 4 5 6 7 8 9 \n"
     ]
    }
   ],
   "source": [
    "n=int(input(\"enter size of n\"))\n",
    "for i in range(n):\n",
    "    for j in range(n):\n",
    "        if i==j or j==0 or j==n-1 or i+j==n-1 or i==0 or i==n-1:\n",
    "            print(j, end=' ')\n",
    "        else:\n",
    "            print(' ', end=' ')\n",
    "    print()"
   ]
  },
  {
   "cell_type": "code",
   "execution_count": 71,
   "id": "fab6b330",
   "metadata": {},
   "outputs": [
    {
     "name": "stdout",
     "output_type": "stream",
     "text": [
      "0 0 0 0 0 0 0 0 0 0 \n",
      "1 1 * * * * * * 1 1 \n",
      "2 * 2 * * * * 2 * 2 \n",
      "3 * * 3 * * 3 * * 3 \n",
      "4 * * * 4 4 * * * 4 \n",
      "5 * * * 5 5 * * * 5 \n",
      "6 * * 6 * * 6 * * 6 \n",
      "7 * 7 * * * * 7 * 7 \n",
      "8 8 * * * * * * 8 8 \n",
      "9 9 9 9 9 9 9 9 9 9 \n"
     ]
    }
   ],
   "source": [
    "n=10\n",
    "for i in range(n):\n",
    "    for j in range(n):\n",
    "        if i==j or j==0 or j==n-1 or i+j==n-1 or i==0 or i==n-1:\n",
    "            print(i, end=' ')\n",
    "        else:\n",
    "            print('*', end=' ')\n",
    "    print()"
   ]
  },
  {
   "cell_type": "code",
   "execution_count": null,
   "id": "9e6d039b",
   "metadata": {},
   "outputs": [
    {
     "name": "stdout",
     "output_type": "stream",
     "text": [
      "\n",
      "1 \n",
      "2 3 \n",
      "4 5 6 \n",
      "7 8 9 10 \n",
      "11 12 13 14 15 \n",
      "16 17 18 19 20 21 \n",
      "22 23 24 25 26 27 28 \n",
      "29 30 31 32 33 34 35 36 \n",
      "37 38 39 40 41 42 43 44 45 \n"
     ]
    }
   ],
   "source": [
    "#floyds triangle\n",
    "num=1\n",
    "n=10\n",
    "for i in range(n):\n",
    "    for j in range(i):\n",
    "        print(num, end=' ')\n",
    "        num+=1\n",
    "    print()\n",
    "#Inner loop runs: 45 times\n",
    "\n",
    "#Outer loop runs: 10 times\n",
    "\n",
    "#total itearions:55 times\n",
    "\n",
    "#Total print statements (num): 45\n",
    "\n"
   ]
  }
 ],
 "metadata": {
  "kernelspec": {
   "display_name": "Python 3",
   "language": "python",
   "name": "python3"
  },
  "language_info": {
   "codemirror_mode": {
    "name": "ipython",
    "version": 3
   },
   "file_extension": ".py",
   "mimetype": "text/x-python",
   "name": "python",
   "nbconvert_exporter": "python",
   "pygments_lexer": "ipython3",
   "version": "3.12.10"
  }
 },
 "nbformat": 4,
 "nbformat_minor": 5
}
