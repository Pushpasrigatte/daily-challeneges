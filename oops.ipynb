{
 "cells": [
  {
   "cell_type": "markdown",
   "metadata": {
    "id": "nWTIzBKmiNj9"
   },
   "source": [
    "##### class"
   ]
  },
  {
   "cell_type": "code",
   "execution_count": null,
   "metadata": {
    "id": "20lPana4iNkC"
   },
   "outputs": [],
   "source": [
    "class dog:\n",
    "    def bark(self):\n",
    "      print(\"bow bow\")\n",
    "animal=dog()\n",
    "animal.bark()"
   ]
  },
  {
   "cell_type": "markdown",
   "metadata": {
    "id": "TAiTszXTiNkE"
   },
   "source": [
    "### self"
   ]
  },
  {
   "cell_type": "code",
   "execution_count": null,
   "metadata": {
    "id": "1kDcn6e7iNkF"
   },
   "outputs": [],
   "source": [
    "class boy:\n",
    "    def set_name(self , name):\n",
    "        self.name=name\n",
    "    def get_name(self):\n",
    "        return self.name\n",
    "s=boy() #object\n",
    "s.set_name(\"pushpasri\")\n",
    "print(s.get_name())"
   ]
  },
  {
   "cell_type": "code",
   "execution_count": null,
   "metadata": {
    "id": "LwRySpeeiNkG"
   },
   "outputs": [],
   "source": [
    "class student:\n",
    "    def marks(self,a,b,c):\n",
    "        self.a=a\n",
    "        self.b=b\n",
    "        self.c=c\n",
    "    def sum(self):\n",
    "        a=self.a+self.b+self.c\n",
    "        avg=a/3\n",
    "        return avg\n",
    "\n",
    "s=student()\n",
    "s.marks(85,90,95)\n",
    "print(s.sum())\n",
    "\n"
   ]
  },
  {
   "cell_type": "markdown",
   "metadata": {
    "id": "JAHtVedpiNkH"
   },
   "source": [
    "### Define a class Circle with a method to calculate area and circumference."
   ]
  },
  {
   "cell_type": "code",
   "execution_count": null,
   "metadata": {
    "id": "yONlJ7cUiNkI"
   },
   "outputs": [],
   "source": [
    "class circle:\n",
    "    def o(self,r):\n",
    "        self.r=r\n",
    "    def area(self):\n",
    "        area=3.14*self.r*self.r\n",
    "        return area\n",
    "    def circum(self):\n",
    "        c=2*3.14*self.r\n",
    "        return c\n",
    "l=circle()\n",
    "l.o(10)\n",
    "print(l.area())\n",
    "print(l.circum())"
   ]
  },
  {
   "cell_type": "markdown",
   "metadata": {
    "id": "QJF1VjNaiNkI"
   },
   "source": [
    "#### ao by using a class object instance\n",
    "### calc"
   ]
  },
  {
   "cell_type": "code",
   "execution_count": null,
   "metadata": {
    "id": "kILKkScxiNkJ"
   },
   "outputs": [],
   "source": [
    "class calc:\n",
    "    def add(self,a,b):\n",
    "        return a+b\n",
    "    def mul(self,a,b):\n",
    "        return a*b\n",
    "c=calc()\n",
    "print(c.add(5,6))\n",
    "print(c.mul(9,10))\n"
   ]
  },
  {
   "cell_type": "code",
   "execution_count": null,
   "metadata": {
    "id": "2juOkSGCiNkK"
   },
   "outputs": [],
   "source": [
    "class oper:\n",
    "    def set_values(self,a,b):\n",
    "        self.a=a\n",
    "        self.b=b\n",
    "    def add(self):\n",
    "        return self.a+self.b\n",
    "    def sub(self):\n",
    "        return self.a-self.b\n",
    "    def mul(self):\n",
    "        return self.a*self.b\n",
    "    def div(self):\n",
    "        return self.a/self.b\n",
    "op=oper()\n",
    "op.set_values(10,5)\n",
    "print(op.add())\n",
    "print(op.sub())\n",
    "print(op.mul())\n",
    "print(op.div())"
   ]
  },
  {
   "cell_type": "code",
   "execution_count": null,
   "metadata": {
    "id": "Z-kDQ_VTiNkK"
   },
   "outputs": [],
   "source": [
    "class square:\n",
    "    def area(self,a):\n",
    "        return a**2\n",
    "    def peri(self,a):\n",
    "        return 4*a\n",
    "\n",
    "s=square()\n",
    "print(s.area(6))\n",
    "print(s.peri(6))\n"
   ]
  },
  {
   "cell_type": "code",
   "execution_count": null,
   "metadata": {
    "id": "HTnb1L1fiNkL"
   },
   "outputs": [],
   "source": [
    "import math\n",
    "class hypo:\n",
    "    def pytho(self,a,b):\n",
    "        self.a=a\n",
    "        self.b=b\n",
    "    def resu(self):\n",
    "       return math.sqrt(self.a**2+self.b**2)\n",
    "\n",
    "m=hypo()\n",
    "m.pytho(10,10)\n",
    "print(m.resu())\n"
   ]
  },
  {
   "cell_type": "markdown",
   "metadata": {
    "id": "p_Ed4ifciNkN"
   },
   "source": [
    "#### 5-5-2025"
   ]
  },
  {
   "cell_type": "markdown",
   "metadata": {
    "id": "XAp1pubSiNkO"
   },
   "source": [
    "### constructor\n",
    "#### basic constructor usage _init_\n",
    "#### automatically runs a method , where a new object is created display---- data"
   ]
  },
  {
   "cell_type": "code",
   "execution_count": null,
   "metadata": {
    "id": "TiZwMSyhiNkP"
   },
   "outputs": [],
   "source": [
    "class student:\n",
    "    def __init__(self,name,num):\n",
    "        self.name=name\n",
    "        self.num=num\n",
    "    def display(self):\n",
    "        print(f\"Name:{self.name},rollno:{self.num}\")\n",
    "s1=student('tony',101)\n",
    "s2=student('mike',103)\n",
    "s1.display()\n",
    "s2.display()"
   ]
  },
  {
   "cell_type": "markdown",
   "metadata": {
    "id": "OPa7Vw5riNkQ"
   },
   "source": [
    "#### code for calculating area and perimeter of a rectangle by taking a user defined input as an object and class as rectangle , return the values to display"
   ]
  },
  {
   "cell_type": "code",
   "execution_count": null,
   "metadata": {
    "id": "d5tleBNpiNkQ"
   },
   "outputs": [],
   "source": [
    "class rectangle:\n",
    "    def __init__(self,len,bre):\n",
    "        self.len=len\n",
    "        self.bre=bre\n",
    "    def area(self):\n",
    "        return self.len * self.bre\n",
    "    def peri(self):\n",
    "        return 2*self.len+2*self.bre\n",
    "\n",
    "\n",
    "len=int(input(\"enter value of len:\"))\n",
    "bre=int(input(\"enter the value of breadth:\"))\n",
    "r=rectangle(len,bre)\n",
    "print(\"area of a rectangle is:\",r.area())\n",
    "print(\"perimeter of a rectangle is:\",r.peri())"
   ]
  },
  {
   "cell_type": "code",
   "execution_count": null,
   "metadata": {
    "id": "xPAVBuAxiNkQ"
   },
   "outputs": [],
   "source": [
    "# calling a method from another method from a single class\n",
    "class m():\n",
    "    def __init__(self,var):\n",
    "        self.var=var\n",
    "    def display(self):\n",
    "        print( \"var:\",self.var)\n",
    "    def call(self):\n",
    "        self.var+=1000\n",
    "        self.display()\n",
    "obj=m(100)\n",
    "obj.call()\n"
   ]
  },
  {
   "cell_type": "markdown",
   "metadata": {
    "id": "hwC1tnNBiNkR"
   },
   "source": [
    "#### code for a class method to call a function , which is defined in global namespace"
   ]
  },
  {
   "cell_type": "code",
   "execution_count": null,
   "metadata": {
    "id": "_7-fsnWeiNkR"
   },
   "outputs": [],
   "source": [
    "def globe(x):\n",
    "    return x*2\n",
    "class n():\n",
    "    def __init__(self,var):\n",
    "        self.var=var\n",
    "    def display(self):\n",
    "        print(\"var:\",self.var)\n",
    "    def modify(self):\n",
    "        self.var=globe(self.var)\n",
    "\n",
    "obj=n(100)\n",
    "obj.display()\n",
    "obj.modify()\n",
    "obj.display()\n"
   ]
  },
  {
   "cell_type": "markdown",
   "metadata": {
    "id": "lFCJlu0GiNkR"
   },
   "source": [
    "#### program that use class as student to store the name and marks of the student , use a list to store the marks of 3 subjects.\n",
    "#### constraints:\n",
    "#### 1.take class as student\n",
    "#### 2.create a constructor for the student name\n",
    "#### 3.create a fun for marks , to be enetered manually with in the class function and add the marks to list\n",
    "#### 4.display then student name & the marks he/she got\n",
    "#### 5.pass the object's attributes of two student names"
   ]
  },
  {
   "cell_type": "markdown",
   "metadata": {
    "id": "E-QA2QDqiNkR"
   },
   "source": []
  },
  {
   "cell_type": "code",
   "execution_count": null,
   "metadata": {
    "id": "hzaMDx0siNkR"
   },
   "outputs": [],
   "source": [
    "class student:\n",
    "    def __init__(self,name):\n",
    "        self.name=name\n",
    "        self.marks=[]\n",
    "    def emarks(self):\n",
    "        for i in range(3):\n",
    "            m=int(input(\"enter the marks of %s in subject %d:\"%(self.name,i+1)))\n",
    "            self.marks.append(m)\n",
    "    def display(self):\n",
    "        print(f\"name:{self.name},marks:{self.marks}\")\n",
    "s1=student(\"kanna\")\n",
    "s1.emarks()\n",
    "s2=student(\"ajay\")\n",
    "s2.emarks()\n",
    "s1.display()\n",
    "s2.display()"
   ]
  },
  {
   "cell_type": "markdown",
   "metadata": {
    "id": "kzzaDvCwiNkS"
   },
   "source": [
    "#### 7-5-2025"
   ]
  },
  {
   "cell_type": "markdown",
   "metadata": {
    "id": "h823va8jiNkS"
   },
   "source": [
    "#### delete method"
   ]
  },
  {
   "cell_type": "code",
   "execution_count": null,
   "metadata": {
    "id": "yH6hya48iNkS"
   },
   "outputs": [],
   "source": [
    "#### __del__()\n",
    "class abc():\n",
    "    classvar=0\n",
    "    def __init__(self,var):\n",
    "        abc.classvar+=1\n",
    "        self.var=var\n",
    "        print(\"the object value:\",var)\n",
    "        print(\"class variable value:\",abc.classvar)\n",
    "    def __del__(self):\n",
    "        abc.classvar-=1\n",
    "        print(\"object with value %d is going out of scope :\",self.var)\n",
    "obj1=abc(10)\n",
    "obj2=abc(20)\n",
    "obj3=abc(30)\n",
    "del obj1\n",
    "del obj2\n",
    "del obj3"
   ]
  },
  {
   "cell_type": "markdown",
   "metadata": {
    "id": "V_J5UfV4iNkS"
   },
   "source": [
    "#### special methods"
   ]
  },
  {
   "cell_type": "code",
   "execution_count": null,
   "metadata": {
    "id": "oSiw40uciNkT"
   },
   "outputs": [],
   "source": [
    "'''\n",
    " __repr__()\n",
    " __len__()\n",
    " __cmp__()\n",
    " __call__()\n",
    " __hash__()\n",
    " operational objects\n",
    " __gt__() , __ge__ ,__lt__() ,__le__() ,__eq__() ,__ne__()\n",
    " __iter__()  iter only for objects not for values\n",
    " __getitem__()\n",
    " __setitem__()\n",
    " '''"
   ]
  },
  {
   "cell_type": "code",
   "execution_count": null,
   "metadata": {
    "id": "CPCBduBpiNkT"
   },
   "outputs": [],
   "source": [
    "class num:\n",
    "    def __init__(self,mylist):\n",
    "        self.mylist=mylist\n",
    "    def __getitem__(self,index):\n",
    "        return self.mylist(index)\n",
    "    def __setitem__(self,index,value):\n",
    "        self.mylist[index]=value\n",
    "numlist=num([1,2,3,4,5,6,7,8,9])\n",
    "print(\"before modify\")\n",
    "print(numlist.mylist)\n",
    "numlist[3]=10\n",
    "print(\"after modifying\")\n",
    "print(numlist.mylist)"
   ]
  },
  {
   "cell_type": "markdown",
   "metadata": {
    "id": "fCxNRYuOiNkT"
   },
   "source": [
    "#### public variable\n",
    "#### private variable"
   ]
  },
  {
   "cell_type": "code",
   "execution_count": null,
   "metadata": {
    "id": "J0ENBMNEiNkT"
   },
   "outputs": [],
   "source": [
    "class xyz():\n",
    "    def __init__(self,v1,v2):\n",
    "        self.v1=v1  #public var\n",
    "        self.__v2=v2 #private var\n",
    "    def display(self):\n",
    "        print(\"from class method :\",self.v1)\n",
    "        print(\"from class method :\",self.__v2)\n",
    "obj=xyz(10,100)\n",
    "obj.display()\n",
    "print(\"from main module:\",obj.v1)\n",
    "print(\"from main module:\",obj.__v2)\n",
    "#public variable can access from anywhere from class or obj(it can access globally)\n",
    "# the private variable cannot access in globally"
   ]
  },
  {
   "cell_type": "code",
   "execution_count": null,
   "metadata": {
    "id": "beWVCWl2iNkU"
   },
   "outputs": [],
   "source": [
    "'''built in class attributes.__\n",
    "1 .__dict__:\n",
    "2 .__doc__:\n",
    "3 .__name__:\n",
    "4 __module__:\n",
    "5 .__bases__:\n",
    "'''"
   ]
  },
  {
   "cell_type": "code",
   "execution_count": null,
   "metadata": {
    "id": "xYIY6AcHiNkU"
   },
   "outputs": [],
   "source": [
    "class abc():\n",
    "    def __init__(self,v1,v2):\n",
    "        self.v1=v1\n",
    "        self.v2=v2\n",
    "    def display(self):\n",
    "        print(\"var1:\",self.v1)\n",
    "        print(\"var2:\",self.v2)\n",
    "obj=abc(11,1.2345)\n",
    "print(\"object.__dict__=\",obj.__dict__)\n",
    "print(\"object.__doc__\",obj.__doc__)\n",
    "print(\"object.__name__\",abc.__name__)\n",
    "print(\"object.__module__\",abc.__module__)\n",
    "print(\"object.__bases__\",abc.__bases__)"
   ]
  },
  {
   "cell_type": "markdown",
   "metadata": {
    "id": "nayzDozniNkV"
   },
   "source": [
    "#### inheritance"
   ]
  },
  {
   "cell_type": "code",
   "execution_count": null,
   "metadata": {
    "id": "zSAH8EXliNkV",
    "outputId": "639cc612-c3f7-4192-b884-18c6e859ff09"
   },
   "outputs": [],
   "source": [
    "# multiple\n",
    "# code to demonstrate the call from super class through constructor of base class\n",
    "\n",
    "class base1(object):\n",
    "    def __init__(self):\n",
    "        print(\"base class-1\")\n",
    "        super(base1,self).__init__()\n",
    "class base2(object):\n",
    "    def __init__(self):\n",
    "        print(\"base class-2\")\n",
    "        super(base2,self).__init__()\n",
    "class base3(object):\n",
    "    def __init__(self):\n",
    "        print(\"base class-3\")\n",
    "        super(base3,self).__init__()\n",
    "class derived(base1,base2):\n",
    "    def __init__(self):\n",
    "        super(derived,self).__init__()\n",
    "        print(\"derived class:\")\n",
    "d=derived()"
   ]
  },
  {
   "cell_type": "code",
   "execution_count": null,
   "metadata": {
    "id": "sH9DGZnViNkY",
    "outputId": "00f2b98e-5cac-47cb-d77d-66ac7bef047b"
   },
   "outputs": [],
   "source": [
    "#multiple inheritance using in calc\n",
    "\n",
    "class addition:\n",
    "    def add(self,a,b):\n",
    "        return a+b\n",
    "class subtraction:\n",
    "    def sub(self,a,b):\n",
    "        return a-b\n",
    "class calc(add,sub):\n",
    "    def mul(self,a,b):\n",
    "        return a*b\n",
    "c=calc()\n",
    "a=int(input(\"enter the value of a\"))\n",
    "b=int(input(\"enter the value of b\"))\n",
    "print(\"addition:\",c.add(a,b))\n",
    "print(\"difference is:\",c.sub(a,b))\n",
    "print(\"subtraction is:\",c.mul(a,b))"
   ]
  },
  {
   "cell_type": "markdown",
   "metadata": {},
   "source": [
    "#### 14-5-2025"
   ]
  },
  {
   "cell_type": "code",
   "execution_count": null,
   "metadata": {},
   "outputs": [],
   "source": [
    "# multi-level inheritance \n",
    "class pet:\n",
    "    def sound(self):\n",
    "        print(\"animal sound\")\n",
    "class dog(pet):\n",
    "    def bark(self):\n",
    "        print(\"dog barks\")\n",
    "class puppy(dog):\n",
    "    def abc(self):\n",
    "        print(\"puppy weeps\")\n",
    "p=puppy()\n",
    "p.sound()\n",
    "p.bark()\n",
    "p.abc()"
   ]
  },
  {
   "cell_type": "markdown",
   "metadata": {},
   "source": [
    "#### code for math operations using a base class ,with 1st and 2nd derived class respectively.\n",
    "#### create an object where will be executed and perform multiple operations. "
   ]
  },
  {
   "cell_type": "code",
   "execution_count": null,
   "metadata": {},
   "outputs": [],
   "source": [
    "class calc:\n",
    "    def __init__(self, a, b):\n",
    "        self.a = a\n",
    "        self.b = b\n",
    "\n",
    "class base(calc):\n",
    "    def add(self):\n",
    "        return self.a + self.b\n",
    "\n",
    "    def sub(self):\n",
    "        return self.a - self.b\n",
    "\n",
    "class adv(base):\n",
    "    def mul(self):\n",
    "        return self.a * self.b\n",
    "\n",
    "    def div(self):\n",
    "        return self.a / self.b\n",
    "        \n",
    "         \n",
    "\n",
    "x = int(input(\"Enter first number: \"))\n",
    "y = int(input(\"Enter second number: \"))\n",
    "c = adv(x, y)\n",
    "\n",
    "# Correct method calls with parentheses\n",
    "print(\"Addition:\", c.add())\n",
    "print(\"Subtraction:\", c.sub())\n",
    "print(\"Multiplication:\", c.mul())\n",
    "print(\"Division:\", c.div())\n"
   ]
  },
  {
   "cell_type": "markdown",
   "metadata": {},
   "source": [
    "#### code for student grading system ,where student base class has to be derived by marks and marks with grades in a multi-level inheritance . calculate the grade to to be allocated to the student with marks A,B,C,D with >=90,>=75,>=60 or less than 60 respectively.\n",
    "#### student=henry\n",
    "#### marks:[85,90,78,92]\n",
    "#### calculate and display marks ,avg grade of henry "
   ]
  },
  {
   "cell_type": "code",
   "execution_count": null,
   "metadata": {},
   "outputs": [],
   "source": [
    "class student:\n",
    "    def __init__(self,name):\n",
    "        self.name=name\n",
    "class marks(student):\n",
    "    def __init__(self, name,marks):\n",
    "        super().__init__(name)\n",
    "        self.marks=marks\n",
    "    def total_marks(self):\n",
    "        return sum(self.marks)\n",
    "class grade(marks):\n",
    "    def avg(self):\n",
    "        return self.total_marks()/len(self.marks)\n",
    "    def cal_grade(self):\n",
    "        avg=self.avg()\n",
    "        if avg>=90:\n",
    "            return 'A'\n",
    "        elif avg>=75:\n",
    "            return 'B'\n",
    "        elif avg>=60:\n",
    "            return 'C'\n",
    "        else:\n",
    "            return 'D'    \n",
    "name=input()\n",
    "subjects=int(input())\n",
    "marks=[]\n",
    "for i in range(subjects):\n",
    "    mark=float(input(f\"enter the marks for subjects{i+1}\"))\n",
    "    marks.append(mark)\n",
    "s=grade(name,marks)\n",
    "print(\"student name\",s.name)\n",
    "print(\"total marks\",s.total_marks())\n",
    "print(\"average\",s.avg())\n",
    "print(\"student grade\",s.cal_grade())\n",
    "        "
   ]
  },
  {
   "cell_type": "code",
   "execution_count": null,
   "metadata": {},
   "outputs": [],
   "source": [
    "# hierarchical inheritance\n",
    "class pet:\n",
    "    def __init__(self,name):\n",
    "        self.name=name\n",
    "    def sound(self):\n",
    "        print(f\"{self.name} makes a sound...!\")\n",
    "class dog(pet):\n",
    "    def sound(self):\n",
    "        print(f\"{self.name} barks..!\")\n",
    "class cat(pet):\n",
    "    def sound(self):\n",
    "        print(f\"{self.name} meow..!\")\n",
    "d=dog(\"milo\")\n",
    "c=cat(\"kitty\")\n",
    "d.sound()\n",
    "c.sound()"
   ]
  },
  {
   "cell_type": "markdown",
   "metadata": {},
   "source": [
    "#### hierarchical geometry operations of different shapes area values of all circle,rectangle,triangle,derived classes "
   ]
  },
  {
   "cell_type": "code",
   "execution_count": null,
   "metadata": {},
   "outputs": [],
   "source": [
    "import math\n",
    "class shape:\n",
    "    def __init__(self,d1,d2=0):\n",
    "        self.d1=d1\n",
    "        self.d2=d2\n",
    "class rect(shape):\n",
    "    def area(self):\n",
    "        return self.d1*self.d2\n",
    "class triangle(shape):\n",
    "    def area(self):\n",
    "        return 0.5*self.d1*self.d2\n",
    "class circle(shape):\n",
    "    def area(self):\n",
    "        return math.pi*self.d1*self.d2\n",
    "r=rect(10,5)\n",
    "t=triangle(7)\n",
    "c=circle(8,6)\n",
    "print(r.area())\n",
    "print(t.area())\n",
    "print(c.area())"
   ]
  },
  {
   "cell_type": "markdown",
   "metadata": {},
   "source": [
    "####  abstarction of the base class for evaluating area of sq,re,tri"
   ]
  },
  {
   "cell_type": "code",
   "execution_count": null,
   "metadata": {},
   "outputs": [],
   "source": [
    "from abc import ABC,abstractmethod\n",
    "from math import pi\n",
    "class shape(ABC):\n",
    "    def __init__(self,name):\n",
    "        self.name=name\n",
    "    @abstractmethod\n",
    "    def area(self):\n",
    "        pass\n",
    "class rect(shape):\n",
    "    def __init__(self,l,b):\n",
    "        super().__init__(\"rectangle\")\n",
    "        self.l=l\n",
    "        self.b=b\n",
    "    def area(self):\n",
    "        return self.l*self.b\n",
    "class triangle(shape):\n",
    "    def __init__(self,h,b):\n",
    "        super().__init__(\"triangle\")\n",
    "        self.h=h\n",
    "        self.b=b\n",
    "    def area(self):\n",
    "        return 0.5*self.h*self.b\n",
    "class circle(shape):\n",
    "    def __init__(self,r):\n",
    "        super().__init__(\"circle\")\n",
    "        self.r=r\n",
    "    def area(self):\n",
    "        return pi*self.r*self.r\n",
    "r=rect(11,2)\n",
    "t=triangle(7,8)\n",
    "c=circle(4)\n",
    "print(r.area())\n",
    "print(t.area())\n",
    "print(c.area())"
   ]
  },
  {
   "cell_type": "markdown",
   "metadata": {},
   "source": [
    "#### 19-5-2025"
   ]
  },
  {
   "cell_type": "markdown",
   "metadata": {},
   "source": [
    "#### ENCAPSULATION \n",
    "##### basic encapsulation with attributes , private attributes\n",
    "1.__var,__x,__a\n",
    "self.__a\n"
   ]
  },
  {
   "cell_type": "code",
   "execution_count": 4,
   "metadata": {},
   "outputs": [
    {
     "name": "stdout",
     "output_type": "stream",
     "text": [
      "audi\n",
      "120\n",
      "200\n",
      "car is not moving\n"
     ]
    }
   ],
   "source": [
    "class car:\n",
    "    def __init__(self,brand,speed):\n",
    "        self.brand=brand\n",
    "        self.__speed=speed\n",
    "    def get_speed(self):\n",
    "        return self.__speed\n",
    "    def set_speed(self,speed):\n",
    "        if speed>0:\n",
    "            self.__speed=speed\n",
    "        else:\n",
    "            print(\"car is not moving\")\n",
    "        \n",
    "c=car(\"audi\",120)\n",
    "print(c.brand)\n",
    "print(c.get_speed())\n",
    "c.set_speed(200)\n",
    "print(c.get_speed())\n",
    "c.set_speed(0)\n"
   ]
  },
  {
   "cell_type": "markdown",
   "metadata": {},
   "source": [
    "#### protected attributes"
   ]
  },
  {
   "cell_type": "code",
   "execution_count": 7,
   "metadata": {},
   "outputs": [
    {
     "name": "stdout",
     "output_type": "stream",
     "text": [
      "abc\n",
      "name:abc,age=33\n"
     ]
    }
   ],
   "source": [
    "class student:\n",
    "    def __init__(self,name,age):\n",
    "        self._name=name\n",
    "        self._age=age\n",
    "    def display_info(self):\n",
    "        print(f\"name:{self._name},age={self._age}\")\n",
    "s=student(\"abc\",33)\n",
    "print(s._name)\n",
    "s.display_info()"
   ]
  },
  {
   "cell_type": "markdown",
   "metadata": {},
   "source": [
    "#### private method"
   ]
  },
  {
   "cell_type": "code",
   "execution_count": 13,
   "metadata": {},
   "outputs": [
    {
     "name": "stdout",
     "output_type": "stream",
     "text": [
      "46200.0\n"
     ]
    }
   ],
   "source": [
    "class emp:\n",
    "    def __init__(self,name,sal):\n",
    "        self.name=name\n",
    "        self.__sal=sal\n",
    "    def __bonus(self):\n",
    "        return self.__sal*0.4\n",
    "    def package(self):\n",
    "        return self.__sal+self.__bonus()\n",
    "e=emp(\"xyz\",33000)\n",
    "print(e.package())"
   ]
  },
  {
   "cell_type": "markdown",
   "metadata": {},
   "source": [
    "#### calculate the average of 4 subjects of a student by taking protected attributes , pass name and four subjects marks to class student find gpa and assign the avg to gpa\n",
    "#### name='*****'\n",
    "#### marks=[99,79,84,95]\n",
    "#### output=average of grades=90.0\n",
    "#### output=name ********,gpa=90.00\n"
   ]
  },
  {
   "cell_type": "code",
   "execution_count": 27,
   "metadata": {},
   "outputs": [
    {
     "name": "stdout",
     "output_type": "stream",
     "text": [
      " average:89.25\n",
      " name:xyz,gpa:89.25\n"
     ]
    }
   ],
   "source": [
    "class stu:\n",
    "    def __init__(self,name,marks):\n",
    "        self._name=name\n",
    "        self._marks=marks\n",
    "    def avg(self):\n",
    "        return sum(self._marks)/len(self._marks)\n",
    "    \n",
    "s=stu(\"xyz\",([99,79,84,95]))\n",
    "print(f\" average:{s.avg()}\")\n",
    "print(f\" name:{s._name},gpa:{s.avg():.2f}\")           "
   ]
  },
  {
   "cell_type": "code",
   "execution_count": 30,
   "metadata": {},
   "outputs": [
    {
     "name": "stdout",
     "output_type": "stream",
     "text": [
      "0.0\n",
      "name:xyz,gpa:0.00\n"
     ]
    }
   ],
   "source": [
    "class stu:\n",
    "    def __init__(self,name,marks):\n",
    "        self._name=name\n",
    "        self._marks=marks\n",
    "    def gpa(self):\n",
    "        if not self._marks:\n",
    "            return 0\n",
    "        return sum(self._marks)/len(self._marks)\n",
    "    def display(self):\n",
    "        print(f\"name:{s._name},gpa:{s.gpa():.2f}\") \n",
    "    \n",
    "s=stu(\"xyz\",([0,0,0,0]))\n",
    "print(s.gpa())\n",
    "s.display()\n",
    "          "
   ]
  },
  {
   "cell_type": "markdown",
   "metadata": {},
   "source": [
    "#### built-in exceptions \n",
    "#### 1.Exception\n",
    "#### 2.StandardError(only 2 errors are not supported only-system error, iteration error)\n",
    "#### 3.SystemError - sys.exit()\n",
    "#### 4.OverFlowError\n",
    "#### 5.ArthimeticError\n",
    "#### 6.IndexError\n",
    "#### 7.KeyBoardInterrupt\n",
    "#### 8.StopIterationError\n",
    "#### 9.KeyError\n",
    "#### 10.EnvironmentalError\n",
    "#### 11.IOError\n",
    "#### 12.NotImplementedError\n"
   ]
  },
  {
   "cell_type": "markdown",
   "metadata": {},
   "source": [
    "   syntax:\n",
    "   \n",
    "    try:\n",
    "        stmt1\n",
    "        stmt2\n",
    "    except exceptioname:\n",
    "        stmt\n",
    "        \n"
   ]
  },
  {
   "cell_type": "code",
   "execution_count": null,
   "metadata": {},
   "outputs": [
    {
     "name": "stdout",
     "output_type": "stream",
     "text": [
      "denominator cannot be zero\n"
     ]
    }
   ],
   "source": [
    "# ZeroDivisionError\n",
    "n=int(input())\n",
    "m=int(input())\n",
    "try:\n",
    "    q=n/m\n",
    "    print(\"quotient:\",q)\n",
    "except ZeroDivisionError:\n",
    "    print(\"denominator cannot be zero\")"
   ]
  },
  {
   "cell_type": "code",
   "execution_count": 38,
   "metadata": {},
   "outputs": [
    {
     "name": "stdout",
     "output_type": "stream",
     "text": [
      "please enter carefully..........\n",
      "exit from exception\n"
     ]
    }
   ],
   "source": [
    "# multiple exception block\n",
    "try:\n",
    "    n=int(input())\n",
    "    print(n**3)\n",
    "except (KeyboardInterrupt):\n",
    "    print(\"enter only numeric................ program end!!!\")\n",
    "except (ValueError):\n",
    "    print(\"please enter carefully..........\")\n",
    "print(\"exit from exception\")"
   ]
  },
  {
   "cell_type": "code",
   "execution_count": 41,
   "metadata": {},
   "outputs": [
    {
     "name": "stdout",
     "output_type": "stream",
     "text": [
      "accessing from the blocks above\n",
      "Bye...........\n"
     ]
    }
   ],
   "source": [
    "try:\n",
    "    n=int(input())\n",
    "    print(n-55)\n",
    "except (KeyboardInterrupt,ValueError,TypeError):\n",
    "    print(\"accessing from the blocks above\")\n",
    "print(\"Bye...........\")    "
   ]
  }
 ],
 "metadata": {
  "colab": {
   "provenance": []
  },
  "kernelspec": {
   "display_name": "Python 3",
   "language": "python",
   "name": "python3"
  },
  "language_info": {
   "codemirror_mode": {
    "name": "ipython",
    "version": 3
   },
   "file_extension": ".py",
   "mimetype": "text/x-python",
   "name": "python",
   "nbconvert_exporter": "python",
   "pygments_lexer": "ipython3",
   "version": "3.12.10"
  }
 },
 "nbformat": 4,
 "nbformat_minor": 0
}
