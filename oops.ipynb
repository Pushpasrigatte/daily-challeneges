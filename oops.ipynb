{
 "cells": [
  {
   "cell_type": "markdown",
   "metadata": {},
   "source": [
    "##### class"
   ]
  },
  {
   "cell_type": "code",
   "execution_count": null,
   "metadata": {},
   "outputs": [],
   "source": [
    "class dog:\n",
    "    def bark(self):\n",
    "      print(\"bow bow\")\n",
    "animal=dog()\n",
    "animal.bark()"
   ]
  },
  {
   "cell_type": "markdown",
   "metadata": {},
   "source": [
    "### self"
   ]
  },
  {
   "cell_type": "code",
   "execution_count": null,
   "metadata": {},
   "outputs": [],
   "source": [
    "class boy:\n",
    "    def set_name(self , name):\n",
    "        self.name=name\n",
    "    def get_name(self):\n",
    "        return self.name\n",
    "s=boy() #object\n",
    "s.set_name(\"pushpasri\")\n",
    "print(s.get_name())"
   ]
  },
  {
   "cell_type": "code",
   "execution_count": null,
   "metadata": {},
   "outputs": [],
   "source": [
    "class student:\n",
    "    def marks(self,a,b,c):\n",
    "        self.a=a\n",
    "        self.b=b\n",
    "        self.c=c\n",
    "    def sum(self):\n",
    "        a=self.a+self.b+self.c\n",
    "        avg=a/3\n",
    "        return avg\n",
    "    \n",
    "s=student()\n",
    "s.marks(85,90,95)  \n",
    "print(s.sum()) \n",
    "        \n"
   ]
  },
  {
   "cell_type": "markdown",
   "metadata": {},
   "source": [
    "### Define a class Circle with a method to calculate area and circumference."
   ]
  },
  {
   "cell_type": "code",
   "execution_count": null,
   "metadata": {},
   "outputs": [],
   "source": [
    "class circle:\n",
    "    def o(self,r):\n",
    "        self.r=r\n",
    "    def area(self):\n",
    "        area=3.14*self.r*self.r\n",
    "        return area\n",
    "    def circum(self):\n",
    "        c=2*3.14*self.r\n",
    "        return c\n",
    "l=circle()\n",
    "l.o(10)\n",
    "print(l.area())\n",
    "print(l.circum())"
   ]
  },
  {
   "cell_type": "markdown",
   "metadata": {},
   "source": [
    "#### ao by using a class object instance\n",
    "### calc"
   ]
  },
  {
   "cell_type": "code",
   "execution_count": null,
   "metadata": {},
   "outputs": [],
   "source": [
    "class calc:\n",
    "    def add(self,a,b):\n",
    "        return a+b\n",
    "    def mul(self,a,b):\n",
    "        return a*b\n",
    "c=calc()\n",
    "print(c.add(5,6))\n",
    "print(c.mul(9,10))\n"
   ]
  },
  {
   "cell_type": "code",
   "execution_count": null,
   "metadata": {},
   "outputs": [],
   "source": [
    "class oper:\n",
    "    def set_values(self,a,b):\n",
    "        self.a=a\n",
    "        self.b=b\n",
    "    def add(self):\n",
    "        return self.a+self.b\n",
    "    def sub(self):\n",
    "        return self.a-self.b\n",
    "    def mul(self):\n",
    "        return self.a*self.b\n",
    "    def div(self):\n",
    "        return self.a/self.b\n",
    "op=oper()\n",
    "op.set_values(10,5)\n",
    "print(op.add())\n",
    "print(op.sub())\n",
    "print(op.mul())\n",
    "print(op.div())"
   ]
  },
  {
   "cell_type": "code",
   "execution_count": null,
   "metadata": {},
   "outputs": [],
   "source": [
    "class square:\n",
    "    def area(self,a):\n",
    "        return a**2\n",
    "    def peri(self,a):\n",
    "        return 4*a\n",
    "    \n",
    "s=square()\n",
    "print(s.area(6))\n",
    "print(s.peri(6))\n",
    "        "
   ]
  },
  {
   "cell_type": "code",
   "execution_count": null,
   "metadata": {},
   "outputs": [],
   "source": [
    "import math \n",
    "class hypo:\n",
    "    def pytho(self,a,b):\n",
    "        self.a=a\n",
    "        self.b=b\n",
    "    def resu(self):\n",
    "       return math.sqrt(self.a**2+self.b**2)\n",
    "   \n",
    "m=hypo()\n",
    "m.pytho(10,10)\n",
    "print(m.resu())\n",
    "        "
   ]
  },
  {
   "cell_type": "markdown",
   "metadata": {},
   "source": [
    "#### 5-5-2025"
   ]
  },
  {
   "cell_type": "markdown",
   "metadata": {},
   "source": [
    "### constructor\n",
    "#### basic constructor usage _init_\n",
    "#### automatically runs a method , where a new object is created display---- data "
   ]
  },
  {
   "cell_type": "code",
   "execution_count": null,
   "metadata": {},
   "outputs": [],
   "source": [
    "class student:\n",
    "    def __init__(self,name,num):\n",
    "        self.name=name\n",
    "        self.num=num\n",
    "    def display(self):\n",
    "        print(f\"Name:{self.name},rollno:{self.num}\")\n",
    "s1=student('tony',101)\n",
    "s2=student('mike',103)\n",
    "s1.display()\n",
    "s2.display()"
   ]
  },
  {
   "cell_type": "markdown",
   "metadata": {},
   "source": [
    "#### code for calculating area and perimeter of a rectangle by taking a user defined input as an object and class as rectangle , return the values to display "
   ]
  },
  {
   "cell_type": "code",
   "execution_count": null,
   "metadata": {},
   "outputs": [],
   "source": [
    "class rectangle:\n",
    "    def __init__(self,len,bre):\n",
    "        self.len=len\n",
    "        self.bre=bre\n",
    "    def area(self):\n",
    "        return self.len * self.bre\n",
    "    def peri(self):\n",
    "        return 2*self.len+2*self.bre\n",
    "        \n",
    "\n",
    "len=int(input(\"enter value of len:\"))\n",
    "bre=int(input(\"enter the value of breadth:\"))\n",
    "r=rectangle(len,bre)\n",
    "print(\"area of a rectangle is:\",r.area())\n",
    "print(\"perimeter of a rectangle is:\",r.peri())"
   ]
  },
  {
   "cell_type": "code",
   "execution_count": null,
   "metadata": {},
   "outputs": [],
   "source": [
    "# calling a method from another method from a single class \n",
    "class m():\n",
    "    def __init__(self,var):\n",
    "        self.var=var\n",
    "    def display(self):\n",
    "        print( \"var:\",self.var)\n",
    "    def call(self):\n",
    "        self.var+=1000\n",
    "        self.display()\n",
    "obj=m(100)\n",
    "obj.call()\n",
    "        "
   ]
  },
  {
   "cell_type": "markdown",
   "metadata": {},
   "source": [
    "#### code for a class method to call a function , which is defined in global namespace "
   ]
  },
  {
   "cell_type": "code",
   "execution_count": null,
   "metadata": {},
   "outputs": [],
   "source": [
    "def globe(x):\n",
    "    return x*2\n",
    "class n():\n",
    "    def __init__(self,var):\n",
    "        self.var=var\n",
    "    def display(self):\n",
    "        print(\"var:\",self.var)\n",
    "    def modify(self):\n",
    "        self.var=globe(self.var)\n",
    "    \n",
    "obj=n(100)\n",
    "obj.display()\n",
    "obj.modify()\n",
    "obj.display()\n"
   ]
  },
  {
   "cell_type": "markdown",
   "metadata": {},
   "source": [
    "#### program that use class as student to store the name and marks of the student , use a list to store the marks of 3 subjects.\n",
    "#### constraints:\n",
    "#### 1.take class as student\n",
    "#### 2.create a constructor for the student name\n",
    "#### 3.create a fun for marks , to be enetered manually with in the class function and add the marks to list\n",
    "#### 4.display then student name & the marks he/she got\n",
    "#### 5.pass the object's attributes of two student names"
   ]
  },
  {
   "cell_type": "markdown",
   "metadata": {},
   "source": []
  },
  {
   "cell_type": "code",
   "execution_count": null,
   "metadata": {},
   "outputs": [],
   "source": [
    "class student:\n",
    "    def __init__(self,name):\n",
    "        self.name=name\n",
    "        self.marks=[]\n",
    "    def emarks(self):\n",
    "        for i in range(3):\n",
    "            m=int(input(\"enter the marks of %s in subject %d:\"%(self.name,i+1)))\n",
    "            self.marks.append(m)\n",
    "    def display(self):\n",
    "        print(f\"name:{self.name},marks:{self.marks}\")\n",
    "s1=student(\"kanna\")\n",
    "s1.emarks()\n",
    "s2=student(\"ajay\")\n",
    "s2.emarks()\n",
    "s1.display()\n",
    "s2.display()       "
   ]
  },
  {
   "cell_type": "markdown",
   "metadata": {},
   "source": [
    "#### 7-5-2025"
   ]
  },
  {
   "cell_type": "markdown",
   "metadata": {},
   "source": [
    "#### delete method "
   ]
  },
  {
   "cell_type": "code",
   "execution_count": null,
   "metadata": {},
   "outputs": [],
   "source": [
    "#### __del__()\n",
    "class abc():\n",
    "    classvar=0\n",
    "    def __init__(self,var):\n",
    "        abc.classvar+=1\n",
    "        self.var=var\n",
    "        print(\"the object value:\",var)\n",
    "        print(\"class variable value:\",abc.classvar)\n",
    "    def __del__(self):\n",
    "        abc.classvar-=1\n",
    "        print(\"object with value %d is going out of scope :\",self.var)\n",
    "obj1=abc(10)\n",
    "obj2=abc(20)\n",
    "obj3=abc(30)\n",
    "del obj1 \n",
    "del obj2\n",
    "del obj3"
   ]
  },
  {
   "cell_type": "markdown",
   "metadata": {},
   "source": [
    "#### special methods"
   ]
  },
  {
   "cell_type": "code",
   "execution_count": null,
   "metadata": {},
   "outputs": [],
   "source": [
    "'''\n",
    " __repr__()\n",
    " __len__()\n",
    " __cmp__()\n",
    " __call__()\n",
    " __hash__()\n",
    " operational objects\n",
    " __gt__() , __ge__ ,__lt__() ,__le__() ,__eq__() ,__ne__()\n",
    " __iter__()  iter only for objects not for values\n",
    " __getitem__() \n",
    " __setitem__()\n",
    " '''"
   ]
  },
  {
   "cell_type": "code",
   "execution_count": null,
   "metadata": {},
   "outputs": [],
   "source": [
    "class num:\n",
    "    def __init__(self,mylist):\n",
    "        self.mylist=mylist\n",
    "    def __getitem__(self,index):\n",
    "        return self.mylist(index)\n",
    "    def __setitem__(self,index,value):\n",
    "        self.mylist[index]=value\n",
    "numlist=num([1,2,3,4,5,6,7,8,9])\n",
    "print(\"before modify\")\n",
    "print(numlist.mylist)\n",
    "numlist[3]=10\n",
    "print(\"after modifying\")\n",
    "print(numlist.mylist)"
   ]
  },
  {
   "cell_type": "markdown",
   "metadata": {},
   "source": [
    "#### public variable\n",
    "#### private variable"
   ]
  },
  {
   "cell_type": "code",
   "execution_count": null,
   "metadata": {},
   "outputs": [],
   "source": [
    "class xyz():\n",
    "    def __init__(self,v1,v2):\n",
    "        self.v1=v1  #public var\n",
    "        self.__v2=v2 #private var\n",
    "    def display(self):\n",
    "        print(\"from class method :\",self.v1)\n",
    "        print(\"from class method :\",self.__v2)\n",
    "obj=xyz(10,100)\n",
    "obj.display()\n",
    "print(\"from main module:\",obj.v1)\n",
    "print(\"from main module:\",obj.__v2) \n",
    "#public variable can access from anywhere from class or obj(it can access globally)\n",
    "# the private variable cannot access in globally"
   ]
  },
  {
   "cell_type": "code",
   "execution_count": null,
   "metadata": {},
   "outputs": [],
   "source": [
    "'''built in class attributes.__\n",
    "1 .__dict__:\n",
    "2 .__doc__:\n",
    "3 .__name__:\n",
    "4 __module__:\n",
    "5 .__bases__:\n",
    "'''"
   ]
  },
  {
   "cell_type": "code",
   "execution_count": null,
   "metadata": {},
   "outputs": [],
   "source": [
    "class abc():\n",
    "    def __init__(self,v1,v2):\n",
    "        self.v1=v1\n",
    "        self.v2=v2\n",
    "    def display(self):\n",
    "        print(\"var1:\",self.v1)\n",
    "        print(\"var2:\",self.v2)\n",
    "obj=abc(11,1.2345)\n",
    "print(\"object.__dict__=\",obj.__dict__)\n",
    "print(\"object.__doc__\",obj.__doc__)\n",
    "print(\"object.__name__\",abc.__name__)\n",
    "print(\"object.__module__\",abc.__module__)\n",
    "print(\"object.__bases__\",abc.__bases__)"
   ]
  },
  {
   "cell_type": "markdown",
   "metadata": {},
   "source": [
    "#### inheritance"
   ]
  },
  {
   "cell_type": "code",
   "execution_count": 40,
   "metadata": {},
   "outputs": [
    {
     "name": "stdout",
     "output_type": "stream",
     "text": [
      "base class-1\n",
      "base class-2\n",
      "derived class:\n"
     ]
    }
   ],
   "source": [
    "# multiple\n",
    "# code to demonstrate the call from super class through constructor of base class\n",
    "\n",
    "class base1(object):\n",
    "    def __init__(self):\n",
    "        print(\"base class-1\")\n",
    "        super(base1,self).__init__()\n",
    "class base2(object):\n",
    "    def __init__(self):\n",
    "        print(\"base class-2\")\n",
    "        super(base2,self).__init__()\n",
    "class base3(object):\n",
    "    def __init__(self):\n",
    "        print(\"base class-3\")\n",
    "        super(base3,self).__init__()\n",
    "class derived(base1,base2):\n",
    "    def __init__(self):\n",
    "        super(derived,self).__init__()\n",
    "        print(\"derived class:\")\n",
    "d=derived()\n",
    "    \n",
    "    "
   ]
  },
  {
   "cell_type": "code",
   "execution_count": 52,
   "metadata": {},
   "outputs": [
    {
     "name": "stdout",
     "output_type": "stream",
     "text": [
      "addition: 16\n",
      "difference is: 8\n",
      "subtraction is: 48\n"
     ]
    }
   ],
   "source": [
    "#multiple inheritance using in calc\n",
    "\n",
    "class addition:\n",
    "    def add(self,a,b):\n",
    "        return a+b\n",
    "class subtraction:\n",
    "    def sub(self,a,b):\n",
    "        return a-b\n",
    "class calc(add,sub):\n",
    "    def mul(self,a,b):\n",
    "        return a*b\n",
    "c=calc()\n",
    "a=int(input(\"enter the value of a\"))\n",
    "b=int(input(\"enter the value of b\"))\n",
    "print(\"addition:\",c.add(a,b))\n",
    "print(\"difference is:\",c.sub(a,b))\n",
    "print(\"subtraction is:\",c.mul(a,b))\n",
    "        "
   ]
  },
  {
   "cell_type": "markdown",
   "metadata": {},
   "source": []
  }
 ],
 "metadata": {
  "kernelspec": {
   "display_name": "Python 3",
   "language": "python",
   "name": "python3"
  },
  "language_info": {
   "codemirror_mode": {
    "name": "ipython",
    "version": 3
   },
   "file_extension": ".py",
   "mimetype": "text/x-python",
   "name": "python",
   "nbconvert_exporter": "python",
   "pygments_lexer": "ipython3",
   "version": "3.12.10"
  }
 },
 "nbformat": 4,
 "nbformat_minor": 2
}
