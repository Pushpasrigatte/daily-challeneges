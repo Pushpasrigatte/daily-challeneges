{
 "cells": [
  {
   "cell_type": "markdown",
   "metadata": {},
   "source": [
    "##### class"
   ]
  },
  {
   "cell_type": "code",
   "execution_count": null,
   "metadata": {},
   "outputs": [],
   "source": [
    "class dog:\n",
    "    def bark(self):\n",
    "      print(\"bow bow\")\n",
    "animal=dog()\n",
    "animal.bark()"
   ]
  },
  {
   "cell_type": "markdown",
   "metadata": {},
   "source": [
    "### self"
   ]
  },
  {
   "cell_type": "code",
   "execution_count": null,
   "metadata": {},
   "outputs": [],
   "source": [
    "class boy:\n",
    "    def set_name(self , name):\n",
    "        self.name=name\n",
    "    def get_name(self):\n",
    "        return self.name\n",
    "s=boy() #object\n",
    "s.set_name(\"pushpasri\")\n",
    "print(s.get_name())"
   ]
  },
  {
   "cell_type": "code",
   "execution_count": null,
   "metadata": {},
   "outputs": [
    {
     "name": "stdout",
     "output_type": "stream",
     "text": [
      "90.0\n"
     ]
    }
   ],
   "source": [
    "class student:\n",
    "    def marks(self,a,b,c):\n",
    "        self.a=a\n",
    "        self.b=b\n",
    "        self.c=c\n",
    "    def sum(self):\n",
    "        a=self.a+self.b+self.c\n",
    "        avg=a/3\n",
    "        return avg\n",
    "    \n",
    "s=student()\n",
    "s.marks(85,90,95)  \n",
    "print(s.sum()) \n",
    "        \n"
   ]
  },
  {
   "cell_type": "markdown",
   "metadata": {},
   "source": [
    "### Define a class Circle with a method to calculate area and circumference."
   ]
  },
  {
   "cell_type": "code",
   "execution_count": 37,
   "metadata": {},
   "outputs": [
    {
     "name": "stdout",
     "output_type": "stream",
     "text": [
      "314.0\n",
      "62.800000000000004\n"
     ]
    }
   ],
   "source": [
    "class circle:\n",
    "    def o(self,r):\n",
    "        self.r=r\n",
    "    def area(self):\n",
    "        area=3.14*self.r*self.r\n",
    "        return area\n",
    "    def circum(self):\n",
    "        c=2*3.14*self.r\n",
    "        return c\n",
    "l=circle()\n",
    "l.o(10)\n",
    "print(l.area())\n",
    "print(l.circum())"
   ]
  },
  {
   "cell_type": "markdown",
   "metadata": {},
   "source": [
    "#### ao by using a class object instance\n",
    "### calc"
   ]
  },
  {
   "cell_type": "code",
   "execution_count": null,
   "metadata": {},
   "outputs": [],
   "source": [
    "class calc:\n",
    "    def add(self,a,b):\n",
    "        return a+b\n",
    "    def mul(self,a,b):\n",
    "        return a*b\n",
    "c=calc()\n",
    "print(c.add(5,6))\n",
    "print(c.mul(9,10))\n"
   ]
  },
  {
   "cell_type": "code",
   "execution_count": null,
   "metadata": {},
   "outputs": [],
   "source": [
    "class oper:\n",
    "    def set_values(self,a,b):\n",
    "        self.a=a\n",
    "        self.b=b\n",
    "    def add(self):\n",
    "        return self.a+self.b\n",
    "    def sub(self):\n",
    "        return self.a-self.b\n",
    "    def mul(self):\n",
    "        return self.a*self.b\n",
    "    def div(self):\n",
    "        return self.a/self.b\n",
    "op=oper()\n",
    "op.set_values(10,5)\n",
    "print(op.add())\n",
    "print(op.sub())\n",
    "print(op.mul())\n",
    "print(op.div())"
   ]
  },
  {
   "cell_type": "code",
   "execution_count": null,
   "metadata": {},
   "outputs": [],
   "source": [
    "class square:\n",
    "    def area(self,a):\n",
    "        return a**2\n",
    "    def peri(self,a):\n",
    "        return 4*a\n",
    "    \n",
    "s=square()\n",
    "print(s.area(6))\n",
    "print(s.peri(6))\n",
    "        "
   ]
  },
  {
   "cell_type": "code",
   "execution_count": 26,
   "metadata": {},
   "outputs": [
    {
     "name": "stdout",
     "output_type": "stream",
     "text": [
      "14.142135623730951\n"
     ]
    }
   ],
   "source": [
    "import math \n",
    "class hypo:\n",
    "    def pytho(self,a,b):\n",
    "        self.a=a\n",
    "        self.b=b\n",
    "    def resu(self):\n",
    "       return math.sqrt(self.a**2+self.b**2)\n",
    "   \n",
    "m=hypo()\n",
    "m.pytho(10,10)\n",
    "print(m.resu())\n",
    "        "
   ]
  }
 ],
 "metadata": {
  "kernelspec": {
   "display_name": "Python 3",
   "language": "python",
   "name": "python3"
  },
  "language_info": {
   "codemirror_mode": {
    "name": "ipython",
    "version": 3
   },
   "file_extension": ".py",
   "mimetype": "text/x-python",
   "name": "python",
   "nbconvert_exporter": "python",
   "pygments_lexer": "ipython3",
   "version": "3.12.10"
  }
 },
 "nbformat": 4,
 "nbformat_minor": 2
}
