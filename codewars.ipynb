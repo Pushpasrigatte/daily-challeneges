{
 "cells": [
  {
   "cell_type": "markdown",
   "id": "665a2bf6",
   "metadata": {},
   "source": [
    "#### Task Explanation\n",
    "\n",
    "You need to write a function that:\n",
    "\n",
    "Accepts a string with one or more words (e.g., \"Hello world\").\n",
    "\n",
    "Reverses each word only if it has five or more letters.\n",
    "\n",
    "Leaves shorter words unchanged.\n",
    "\n",
    "Returns the modified string, with the words in the same order and separated by spaces.\n",
    "\n"
   ]
  },
  {
   "cell_type": "code",
   "execution_count": null,
   "id": "95fa20ed",
   "metadata": {},
   "outputs": [],
   "source": [
    "def spin_words(sentence):\n",
    "    # Your code goes here\n",
    "    return \" \".join([x[::-1] if len(x) >= 5 else x for x in sentence.split(\" \")])"
   ]
  },
  {
   "cell_type": "code",
   "execution_count": null,
   "id": "10fb2224",
   "metadata": {},
   "outputs": [],
   "source": [
    "def spin_words(sentence):\n",
    "    words = sentence.split()\n",
    "    result = []\n",
    "\n",
    "    for word in words:\n",
    "        if len(word) >= 5:\n",
    "            result.append(word[::-1])  # reverse word\n",
    "        else:\n",
    "            result.append(word)\n",
    "    \n",
    "    return ' '.join(result)\n"
   ]
  },
  {
   "cell_type": "markdown",
   "id": "03616157",
   "metadata": {},
   "source": [
    "#### In this kata you are required to, given a string, replace every letter with its position in the alphabet.\n",
    "\n",
    "If anything in the text isn't a letter, ignore it and don't return it.\n",
    "\n",
    "\"a\" = 1, \"b\" = 2, etc.\n",
    "\n",
    "Example\n",
    "Input = \"The sunset sets at twelve o' clock.\"\n",
    "Output = \"20 8 5 19 21 14 19 5 20 19 5 20 19 1 20 20 23 5 12 22 5 15 3"
   ]
  },
  {
   "cell_type": "code",
   "execution_count": null,
   "id": "91dbe0e3",
   "metadata": {},
   "outputs": [
    {
     "name": "stdout",
     "output_type": "stream",
     "text": [
      "3\n"
     ]
    }
   ],
   "source": [
    "letter = 'c'\n",
    "position = ord(letter) - ord('a') + 1\n",
    "print(position)  # Output: 3\n"
   ]
  },
  {
   "cell_type": "code",
   "execution_count": null,
   "id": "e23afc04",
   "metadata": {},
   "outputs": [],
   "source": [
    "letter = 'c'\n",
    "position = ord(letter) - 96\n",
    "print(position)  # Output: 3\n"
   ]
  },
  {
   "cell_type": "code",
   "execution_count": 10,
   "id": "640b54fb",
   "metadata": {},
   "outputs": [
    {
     "name": "stdout",
     "output_type": "stream",
     "text": [
      "[8, 5, 12, 12, 15, 23, 15, 18, 12, 4]\n"
     ]
    }
   ],
   "source": [
    "def p(t):\n",
    "    res = []\n",
    "    for char in t.lower():\n",
    "        if char.isalpha():\n",
    "            position = ord(char) - 96  \n",
    "            res.append(position)\n",
    "    print(res)\n",
    "    \n",
    "p(\"hello world\")\n"
   ]
  },
  {
   "cell_type": "markdown",
   "id": "2a26be9c",
   "metadata": {},
   "source": [
    "#### You are going to be given a non-empty string. Your job is to return the middle character(s) of the string.\n",
    "\n",
    "If the string's length is odd, return the middle character.\n",
    "If the string's length is even, return the middle 2 characters.\n",
    "Examples:\n",
    "\"test\" --> \"es\"\n",
    "\"testing\" --> \"t\"\n",
    "\"middle\" --> \"dd\"\n",
    "\"A\" --> \"A\""
   ]
  },
  {
   "cell_type": "code",
   "execution_count": null,
   "id": "cc72752b",
   "metadata": {},
   "outputs": [
    {
     "name": "stdout",
     "output_type": "stream",
     "text": [
      "2.5\n"
     ]
    }
   ],
   "source": [
    "def get_middle(s):\n",
    "    length = len(s)\n",
    "    mid = length // 2\n",
    "    if length % 2 == 0:\n",
    "        # Even length: return middle two characters\n",
    "        return s[mid-1:mid+1]\n",
    "    else:\n",
    "        # Odd length: return the middle character\n",
    "        return s[mid]\n",
    "\n"
   ]
  },
  {
   "cell_type": "code",
   "execution_count": null,
   "id": "2a1f8d60",
   "metadata": {},
   "outputs": [],
   "source": []
  }
 ],
 "metadata": {
  "kernelspec": {
   "display_name": "Python 3",
   "language": "python",
   "name": "python3"
  },
  "language_info": {
   "codemirror_mode": {
    "name": "ipython",
    "version": 3
   },
   "file_extension": ".py",
   "mimetype": "text/x-python",
   "name": "python",
   "nbconvert_exporter": "python",
   "pygments_lexer": "ipython3",
   "version": "3.12.10"
  }
 },
 "nbformat": 4,
 "nbformat_minor": 5
}
