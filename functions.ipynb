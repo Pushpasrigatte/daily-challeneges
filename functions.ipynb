{
 "cells": [
  {
   "cell_type": "markdown",
   "id": "5216482a",
   "metadata": {},
   "source": [
    "# functions"
   ]
  },
  {
   "cell_type": "markdown",
   "id": "8db9620d",
   "metadata": {},
   "source": [
    "##### write a program to return n no.of multiple values where passing a list of 1-5 elements return the min max and avg in a single function "
   ]
  },
  {
   "cell_type": "code",
   "execution_count": 4,
   "id": "404c8a60",
   "metadata": {},
   "outputs": [
    {
     "name": "stdout",
     "output_type": "stream",
     "text": [
      "min:1,max:5,avg:3.0\n"
     ]
    }
   ],
   "source": [
    "def allnum(n):\n",
    "    return min(n),max(n),sum(n)/len(n)\n",
    "min_val,max_val,avg_val=allnum([1,4,3,2,5])\n",
    "print(f'min:{min_val},max:{max_val},avg:{avg_val}')    "
   ]
  },
  {
   "cell_type": "markdown",
   "id": "8e44b035",
   "metadata": {},
   "source": [
    "#### recursion function - types"
   ]
  },
  {
   "cell_type": "code",
   "execution_count": 5,
   "id": "b6c45d6f",
   "metadata": {},
   "outputs": [
    {
     "name": "stdout",
     "output_type": "stream",
     "text": [
      "120\n"
     ]
    }
   ],
   "source": [
    "#direct recursion fact\n",
    "def fact(n):\n",
    "    if n==0 or n==1:\n",
    "        return 1\n",
    "    return n*fact(n-1)\n",
    "print(fact(5))"
   ]
  },
  {
   "cell_type": "code",
   "execution_count": 11,
   "id": "af7faa52",
   "metadata": {},
   "outputs": [
    {
     "name": "stdout",
     "output_type": "stream",
     "text": [
      "True\n",
      "True\n"
     ]
    }
   ],
   "source": [
    "#indirect recursion\n",
    "# even or odd\n",
    "def e(n):\n",
    "    if n==0:\n",
    "        return True\n",
    "    return o(n - 1)  \n",
    "def o(n):\n",
    "    if n==0:\n",
    "        return False\n",
    "    return e(n-1)\n",
    "print(e(6))\n",
    "print(o(9))"
   ]
  },
  {
   "cell_type": "code",
   "execution_count": 12,
   "id": "f306d159",
   "metadata": {},
   "outputs": [
    {
     "name": "stdout",
     "output_type": "stream",
     "text": [
      "120\n"
     ]
    }
   ],
   "source": [
    "#tail\n",
    "#fact\n",
    "def fact(n,t=1):\n",
    "    if n==0 or n==1:\n",
    "        return t\n",
    "    return fact(n-1,n*t)\n",
    "print(fact(5))"
   ]
  },
  {
   "cell_type": "code",
   "execution_count": 20,
   "id": "6c7f74c0",
   "metadata": {},
   "outputs": [
    {
     "name": "stdout",
     "output_type": "stream",
     "text": [
      "1 2 3 "
     ]
    }
   ],
   "source": [
    "# Python program showing Head Recursion \n",
    "# Recursive function \n",
    "def pushpa(z): \n",
    "    if (z> 0):\n",
    "        pushpa(z-1)\n",
    "        print(z,end=\" \")  \n",
    "x = 3\n",
    "pushpa(x) \n",
    "\n"
   ]
  },
  {
   "cell_type": "code",
   "execution_count": null,
   "id": "d15528c7",
   "metadata": {},
   "outputs": [
    {
     "name": "stdout",
     "output_type": "stream",
     "text": [
      "81\n",
      "10\n",
      "3\n"
     ]
    }
   ],
   "source": [
    "# lambda functions\n",
    "\n",
    "sq=lambda x:x*x\n",
    "print(sq(9))\n",
    "\n",
    "add=lambda x,y:x+y\n",
    "print(add(3,7))\n",
    "\n",
    "sub=lambda x,y:x-y\n",
    "print(sub(5,2))\n"
   ]
  },
  {
   "cell_type": "code",
   "execution_count": 2,
   "id": "30faa160",
   "metadata": {},
   "outputs": [
    {
     "name": "stdout",
     "output_type": "stream",
     "text": [
      "name:kanna\n",
      "age:33\n",
      "city:bengal\n"
     ]
    }
   ],
   "source": [
    "def info(**kwargs):\n",
    "    for key,value in kwargs.items():\n",
    "        print(f\"{key}:{value}\")\n",
    "info(name=\"kanna\",age=33,city=\"bengal\")"
   ]
  },
  {
   "cell_type": "code",
   "execution_count": 3,
   "id": "0fe3ced7",
   "metadata": {},
   "outputs": [
    {
     "name": "stdout",
     "output_type": "stream",
     "text": [
      "6\n",
      "110\n"
     ]
    }
   ],
   "source": [
    "def res(*args):\n",
    "    return sum(args)\n",
    "print(res(1,2,3))\n",
    "print(res(11,22,33,44))"
   ]
  },
  {
   "cell_type": "code",
   "execution_count": 7,
   "id": "cacf65f7",
   "metadata": {},
   "outputs": [
    {
     "name": "stdout",
     "output_type": "stream",
     "text": [
      "55\n"
     ]
    }
   ],
   "source": [
    "#linear recursion\n",
    "def total(n):\n",
    "    if n<0:\n",
    "        return 0\n",
    "    return n+total(n-1)\n",
    "print(total(10))"
   ]
  },
  {
   "cell_type": "code",
   "execution_count": 9,
   "id": "55182082",
   "metadata": {},
   "outputs": [
    {
     "name": "stdout",
     "output_type": "stream",
     "text": [
      "288\n"
     ]
    }
   ],
   "source": [
    "# nested recursion \n",
    "# super factorial:(3!)=(3*2*1)!=6\n",
    "#                     =3!*2!*1!=12\n",
    "\n",
    "def sfact(n):\n",
    "    if n<=0:\n",
    "        return 1\n",
    "    return fact(n)*sfact(n-1)\n",
    "def fact(n):\n",
    "    if n<=1:\n",
    "        return 1\n",
    "    return n*fact(n-1)\n",
    "print(sfact(4))"
   ]
  },
  {
   "cell_type": "code",
   "execution_count": 10,
   "id": "e965fa0f",
   "metadata": {},
   "outputs": [
    {
     "name": "stdout",
     "output_type": "stream",
     "text": [
      "16\n",
      "9\n"
     ]
    }
   ],
   "source": [
    "# power tower\n",
    "def pt(a,n):\n",
    "    if n==1:\n",
    "        return a\n",
    "    return a*pt(a,n-1)\n",
    "print(pt(2,4))\n",
    "print(pt(3,2))"
   ]
  }
 ],
 "metadata": {
  "kernelspec": {
   "display_name": "Python 3",
   "language": "python",
   "name": "python3"
  },
  "language_info": {
   "codemirror_mode": {
    "name": "ipython",
    "version": 3
   },
   "file_extension": ".py",
   "mimetype": "text/x-python",
   "name": "python",
   "nbconvert_exporter": "python",
   "pygments_lexer": "ipython3",
   "version": "3.12.10"
  }
 },
 "nbformat": 4,
 "nbformat_minor": 5
}
