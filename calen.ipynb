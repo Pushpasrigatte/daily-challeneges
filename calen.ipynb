{
 "cells": [
  {
   "cell_type": "markdown",
   "id": "d61aaac7",
   "metadata": {},
   "source": [
    "### calendar module"
   ]
  },
  {
   "cell_type": "code",
   "execution_count": null,
   "id": "9cd539fd",
   "metadata": {},
   "outputs": [],
   "source": [
    "import calendar \n",
    "\n",
    "yy = 2005\n",
    "mm = 2\n",
    "print(calendar.month(yy, mm)) \n"
   ]
  },
  {
   "cell_type": "code",
   "execution_count": null,
   "id": "8311dbec",
   "metadata": {},
   "outputs": [],
   "source": [
    "\n",
    "print (calendar.calendar(2028)) \n"
   ]
  },
  {
   "cell_type": "code",
   "execution_count": null,
   "id": "2da52a01",
   "metadata": {},
   "outputs": [],
   "source": [
    "import calendar\n",
    "year=int(input(\"enter a year\"))\n",
    "if calendar.isleap(year):\n",
    "    print(\"True\")\n",
    "else:\n",
    "    print(\"False\")"
   ]
  },
  {
   "cell_type": "markdown",
   "id": "d1114cee",
   "metadata": {},
   "source": [
    "### date time"
   ]
  },
  {
   "cell_type": "code",
   "execution_count": null,
   "id": "6306e6e5",
   "metadata": {},
   "outputs": [],
   "source": [
    "import calendar\n",
    "import datetime\n",
    "current_date=datetime.datetime.now()\n",
    "current_month=current_date.month\n",
    "current_year=current_date.year\n",
    "print(\"current_date:\",current_date)\n",
    "print(\"current_month:\",current_month)\n",
    "print(\"current_year:\",current_year) \n",
    "#or\n",
    "c_date=datetime.datetime.now().year\n",
    "c_month=datetime.datetime.now().month\n",
    "print(c_month)\n",
    "print(c_date)\n"
   ]
  },
  {
   "cell_type": "markdown",
   "id": "0a47b003",
   "metadata": {},
   "source": [
    "### Function to implement countdown\n"
   ]
  },
  {
   "cell_type": "code",
   "execution_count": null,
   "id": "d53ed3fc",
   "metadata": {},
   "outputs": [
    {
     "name": "stdout",
     "output_type": "stream",
     "text": [
      "Time's up!\n"
     ]
    }
   ],
   "source": [
    "import time\n",
    "\n",
    "def countdown_timer(seconds):\n",
    "    while seconds > 0:\n",
    "        mins, secs = divmod(seconds, 60) #splits seconds into minutes and seconds.\n",
    "        timer_format = '{:02d}:{:02d}'.format(mins, secs)\n",
    "        print(timer_format,end='\\r')  # '\\r' allows updating the same line\n",
    "        time.sleep(1)  #pauses the program for 1 second.\n",
    "        seconds -= 1\n",
    "    print(\"Time's up!\")\n",
    "\n",
    "# Example: countdown from 10 seconds\n",
    "countdown_time = int(input(\"Enter time in seconds: \"))\n",
    "countdown_timer(countdown_time)\n"
   ]
  },
  {
   "cell_type": "code",
   "execution_count": null,
   "id": "521ad920",
   "metadata": {},
   "outputs": [
    {
     "name": "stdout",
     "output_type": "stream",
     "text": [
      "Time's up!\n"
     ]
    }
   ],
   "source": [
    "import time\n",
    "\n",
    "def countdown_timer(seconds):\n",
    "    for remaining in range(seconds, 0, -1):\n",
    "        mins, secs = divmod(remaining, 60)\n",
    "        timer_format = '{:02d}:{:02d}'.format(mins, secs)\n",
    "        print(timer_format, end='\\r')\n",
    "        time.sleep(1)\n",
    "    print(\"Time's up!\")\n",
    "\n",
    "\n",
    "countdown_time = int(input(\"Enter time in seconds: \"))\n",
    "countdown_timer(countdown_time)\n"
   ]
  }
 ],
 "metadata": {
  "kernelspec": {
   "display_name": "Python 3",
   "language": "python",
   "name": "python3"
  },
  "language_info": {
   "codemirror_mode": {
    "name": "ipython",
    "version": 3
   },
   "file_extension": ".py",
   "mimetype": "text/x-python",
   "name": "python",
   "nbconvert_exporter": "python",
   "pygments_lexer": "ipython3",
   "version": "3.12.10"
  }
 },
 "nbformat": 4,
 "nbformat_minor": 5
}
