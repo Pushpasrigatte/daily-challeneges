{
 "cells": [
  {
   "cell_type": "code",
   "execution_count": 12,
   "id": "28eeb315",
   "metadata": {},
   "outputs": [
    {
     "name": "stdout",
     "output_type": "stream",
     "text": [
      "*****\n",
      "*****\n",
      "*****\n",
      "*****\n",
      "*****\n"
     ]
    }
   ],
   "source": [
    "for i in range(1,6):\n",
    "    for j in range(1,6):\n",
    "       print(\"*\",end=\"\")\n",
    "    print()    "
   ]
  },
  {
   "cell_type": "code",
   "execution_count": 13,
   "id": "988d6fcc",
   "metadata": {},
   "outputs": [
    {
     "name": "stdout",
     "output_type": "stream",
     "text": [
      "*****\n",
      "****\n",
      "***\n",
      "**\n",
      "*\n"
     ]
    }
   ],
   "source": [
    "for i in range(1,6):\n",
    "    for j in range(5,i-1,-1):\n",
    "        print(\"*\",end=\"\")\n",
    "    print()"
   ]
  },
  {
   "cell_type": "code",
   "execution_count": 14,
   "id": "636a4690",
   "metadata": {},
   "outputs": [
    {
     "name": "stdout",
     "output_type": "stream",
     "text": [
      "*\n",
      "**\n",
      "***\n",
      "****\n",
      "*****\n"
     ]
    }
   ],
   "source": [
    "for i in range(1,6):\n",
    "    for j in range(1,i+1):\n",
    "        print(\"*\",end=\"\")\n",
    "    print()"
   ]
  },
  {
   "cell_type": "code",
   "execution_count": 15,
   "id": "7466dc46",
   "metadata": {},
   "outputs": [
    {
     "name": "stdout",
     "output_type": "stream",
     "text": [
      "    *\n",
      "   **\n",
      "  ***\n",
      " ****\n",
      "*****\n"
     ]
    }
   ],
   "source": [
    "\n",
    "n = 5\n",
    "for i in range(1, n + 1):\n",
    "    for j in range(n - 1, i - 1, -1):\n",
    "        print(\" \", end=\"\")\n",
    "    for k in range(1, i + 1):\n",
    "        print(\"*\", end=\"\")\n",
    "    print()"
   ]
  },
  {
   "cell_type": "code",
   "execution_count": 16,
   "id": "d35a630a",
   "metadata": {},
   "outputs": [
    {
     "name": "stdout",
     "output_type": "stream",
     "text": [
      " *****\n",
      "  ****\n",
      "   ***\n",
      "    **\n",
      "     *\n",
      "      \n"
     ]
    }
   ],
   "source": [
    "n = 6\n",
    "for i in range(1, n + 1):\n",
    "    for j in range(1,i+1):\n",
    "        print(\" \", end=\"\")\n",
    "    for k in range(n - 1, i - 1, -1):\n",
    "        print(\"*\", end=\"\")\n",
    "    print()"
   ]
  },
  {
   "cell_type": "code",
   "execution_count": 17,
   "id": "a0b6ee89",
   "metadata": {},
   "outputs": [
    {
     "name": "stdout",
     "output_type": "stream",
     "text": [
      "****\n",
      "****\n",
      "****\n"
     ]
    }
   ],
   "source": [
    "\n",
    "for i in range(1,4):\n",
    "    for j in range(1,5):\n",
    "        print(\"*\", end=\"\")\n",
    "    print()"
   ]
  },
  {
   "cell_type": "code",
   "execution_count": 18,
   "id": "81808d2c",
   "metadata": {},
   "outputs": [
    {
     "name": "stdout",
     "output_type": "stream",
     "text": [
      " *\n",
      " ***\n",
      " *****\n",
      " *******\n",
      " *********\n",
      " ***********\n",
      " *************\n",
      " ***************\n",
      " *****************\n",
      " *******************\n"
     ]
    }
   ],
   "source": [
    "p_height = 5 \n",
    "min_stars = 1\n",
    "for i in range(p_height):\n",
    "    for j in range(p_height - 1, i, -1):\n",
    "        print(\" \", end=\"\") \n",
    "        for k in range(min_stars):\n",
    "            print(\"*\", end=\"\")\n",
    "        min_stars += 2 \n",
    "        print()\n"
   ]
  },
  {
   "cell_type": "code",
   "execution_count": 19,
   "id": "1cac938f",
   "metadata": {},
   "outputs": [
    {
     "name": "stdout",
     "output_type": "stream",
     "text": [
      "    *\n",
      "   ***\n",
      "  *****\n",
      " *******\n",
      "*********\n"
     ]
    }
   ],
   "source": [
    "p_height = 5\n",
    "min_stars = 1\n",
    "\n",
    "for i in range(p_height):\n",
    "    for j in range(p_height - 1, i, -1):\n",
    "        print(\" \", end=\"\")\n",
    "    for k in range(min_stars):\n",
    "        print(\"*\", end=\"\")\n",
    "    min_stars += 2\n",
    "    print()"
   ]
  },
  {
   "cell_type": "code",
   "execution_count": 20,
   "id": "54b346cd",
   "metadata": {},
   "outputs": [
    {
     "name": "stdout",
     "output_type": "stream",
     "text": [
      "        * \n",
      "      * * * \n",
      "    * * * * * \n",
      "  * * * * * * * \n",
      "* * * * * * * * * \n"
     ]
    }
   ],
   "source": [
    "n = 5\n",
    "for i in range(n):\n",
    "    for j in range(n - i - 1):\n",
    "        print(\" \", end=\" \")\n",
    "    for j in range(2 * i + 1):\n",
    "        print(\"*\", end=\" \")\n",
    "    print()"
   ]
  },
  {
   "cell_type": "code",
   "execution_count": 21,
   "id": "9c3fba41",
   "metadata": {},
   "outputs": [
    {
     "name": "stdout",
     "output_type": "stream",
     "text": [
      "* * * * * \n",
      "*       * \n",
      "*       * \n",
      "*       * \n",
      "* * * * * \n"
     ]
    }
   ],
   "source": [
    "n = 5\n",
    "for i in range(n):\n",
    "    for j in range(n):\n",
    "        if i == 0 or i == n - 1 or j == 0 or j == n - 1:\n",
    "            print(\"*\", end=\" \")\n",
    "        else:\n",
    "            print(\" \", end=\" \")\n",
    "    print()"
   ]
  },
  {
   "cell_type": "code",
   "execution_count": 32,
   "id": "e58b90e8",
   "metadata": {},
   "outputs": [
    {
     "name": "stdout",
     "output_type": "stream",
     "text": [
      "* * * * * * * * * * * * * * * \n",
      "*                           * \n",
      "*                           * \n",
      "*                           * \n",
      "* * * * * * * * * * * * * * * \n"
     ]
    }
   ],
   "source": [
    "r = 5\n",
    "c = 15\n",
    "for i in range(r):\n",
    "    for j in range(c):\n",
    "        if i == 0 or i == r - 1 or j == 0 or j == c - 1:\n",
    "            print(\"*\", end=\" \")\n",
    "        else:\n",
    "            print(\" \", end=\" \")\n",
    "    print()"
   ]
  },
  {
   "cell_type": "code",
   "execution_count": 28,
   "id": "8d68275f",
   "metadata": {},
   "outputs": [
    {
     "name": "stdout",
     "output_type": "stream",
     "text": [
      "* * * * \n",
      "* * * * \n",
      "* * * * \n"
     ]
    }
   ],
   "source": [
    "r=3\n",
    "c=4\n",
    "for i in range(r):\n",
    "    for j in range(c):\n",
    "        print(\"*\",end=' ')\n",
    "    print()"
   ]
  },
  {
   "cell_type": "code",
   "execution_count": 23,
   "id": "db28fe7b",
   "metadata": {},
   "outputs": [
    {
     "name": "stdout",
     "output_type": "stream",
     "text": [
      "*-*-*-\n",
      "*-*-*-\n",
      "*-*-*-\n"
     ]
    }
   ],
   "source": [
    "r=3\n",
    "c=3\n",
    "for i in range(r):\n",
    "    for j in range(c):\n",
    "        print(\"*\",end='-')\n",
    "    print()"
   ]
  },
  {
   "cell_type": "code",
   "execution_count": 24,
   "id": "e003ce1b",
   "metadata": {},
   "outputs": [
    {
     "name": "stdout",
     "output_type": "stream",
     "text": [
      "*-*-*\n",
      "*-*-*\n",
      "*-*-*\n"
     ]
    }
   ],
   "source": [
    "r=3\n",
    "c=3\n",
    "for i in range(r):\n",
    "    for j in range(c-1):\n",
    "        print(\"*\",end='-')\n",
    "    print(\"*\")"
   ]
  },
  {
   "cell_type": "code",
   "execution_count": 25,
   "id": "59779f6f",
   "metadata": {},
   "outputs": [
    {
     "name": "stdout",
     "output_type": "stream",
     "text": [
      "*-*-*\n",
      "*-*-*\n",
      "*-*-*\n"
     ]
    }
   ],
   "source": [
    "r=3\n",
    "c=3\n",
    "for i in range(r):\n",
    "    for j in range(c):\n",
    "        print(\"*\",end='')\n",
    "        if j!=c-1:\n",
    "           print(\"-\",end=\"\")\n",
    "    print()"
   ]
  },
  {
   "cell_type": "code",
   "execution_count": 26,
   "id": "29840ac1",
   "metadata": {},
   "outputs": [
    {
     "name": "stdout",
     "output_type": "stream",
     "text": [
      "*-*-*-*-*-*-*-*-*-*-*-*-*-*-*-*-*-*-*-*-*-*-*-*-*-*-*-*-*-*\n",
      "*-*-*-*-*-*-*-*-*-*-*-*-*-*-*-*-*-*-*-*-*-*-*-*-*-*-*-*-*-*\n",
      "*-*-*-*-*-*-*-*-*-*-*-*-*-*-*-*-*-*-*-*-*-*-*-*-*-*-*-*-*-*\n"
     ]
    }
   ],
   "source": [
    "r=3\n",
    "c=30\n",
    "for i in range(r):\n",
    "    for j in range(c-1):\n",
    "        print(\"*\",end='-')\n",
    "    print(\"*\")"
   ]
  },
  {
   "cell_type": "code",
   "execution_count": 27,
   "id": "39373a45",
   "metadata": {},
   "outputs": [
    {
     "name": "stdout",
     "output_type": "stream",
     "text": [
      "*-*-*\n",
      "*-*-*\n",
      "*-*-*\n",
      "*-*-*\n",
      "*-*-*\n",
      "*-*-*\n",
      "*-*-*\n",
      "*-*-*\n",
      "*-*-*\n",
      "*-*-*\n",
      "*-*-*\n",
      "*-*-*\n",
      "*-*-*\n",
      "*-*-*\n",
      "*-*-*\n"
     ]
    }
   ],
   "source": [
    "r=15\n",
    "c=3\n",
    "for i in range(r):\n",
    "    for j in range(c-1):\n",
    "        print(\"*\",end='-')\n",
    "    print(\"*\")"
   ]
  },
  {
   "cell_type": "code",
   "execution_count": 52,
   "id": "e4ec7e61",
   "metadata": {},
   "outputs": [
    {
     "name": "stdout",
     "output_type": "stream",
     "text": [
      "***\n",
      "**\n",
      "*\n"
     ]
    }
   ],
   "source": [
    "c=3\n",
    "for i in range(c):\n",
    "    for j in range(c-i):\n",
    "        print(\"*\",end=\"\")\n",
    "    print()"
   ]
  }
 ],
 "metadata": {
  "kernelspec": {
   "display_name": "Python 3",
   "language": "python",
   "name": "python3"
  },
  "language_info": {
   "codemirror_mode": {
    "name": "ipython",
    "version": 3
   },
   "file_extension": ".py",
   "mimetype": "text/x-python",
   "name": "python",
   "nbconvert_exporter": "python",
   "pygments_lexer": "ipython3",
   "version": "3.12.10"
  }
 },
 "nbformat": 4,
 "nbformat_minor": 5
}
