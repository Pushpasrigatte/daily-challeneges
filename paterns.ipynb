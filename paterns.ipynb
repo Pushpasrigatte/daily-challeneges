{
 "cells": [
  {
   "cell_type": "code",
   "execution_count": 10,
   "id": "28eeb315",
   "metadata": {
    "id": "28eeb315",
    "outputId": "56c35272-b403-48df-9f09-7c31818153f3"
   },
   "outputs": [
    {
     "name": "stdout",
     "output_type": "stream",
     "text": [
      "*****\n",
      "*****\n",
      "*****\n",
      "*****\n",
      "*****\n"
     ]
    }
   ],
   "source": [
    "for i in range(1,6):\n",
    "   for j in range(1,6):\n",
    "     print(\"*\",end=\"\")\n",
    "   print()"
   ]
  },
  {
   "cell_type": "code",
   "execution_count": 11,
   "id": "988d6fcc",
   "metadata": {
    "id": "988d6fcc",
    "outputId": "742417e0-240f-44ee-f330-64439a2919c8"
   },
   "outputs": [
    {
     "name": "stdout",
     "output_type": "stream",
     "text": [
      "*****\n",
      "****\n",
      "***\n",
      "**\n",
      "*\n"
     ]
    }
   ],
   "source": [
    "for i in range(1,6):\n",
    "    for j in range(0,6-i):\n",
    "        print(\"*\",end=\"\")\n",
    "    print()"
   ]
  },
  {
   "cell_type": "code",
   "execution_count": 12,
   "id": "636a4690",
   "metadata": {
    "id": "636a4690",
    "outputId": "e0e5f005-f1ec-47c0-b461-fe61107618d5"
   },
   "outputs": [
    {
     "name": "stdout",
     "output_type": "stream",
     "text": [
      "*\n",
      "**\n",
      "***\n",
      "****\n",
      "*****\n"
     ]
    }
   ],
   "source": [
    "for i in range(1,6):\n",
    "    for j in range(1,i+1):\n",
    "        print(\"*\",end=\"\")\n",
    "    print()"
   ]
  },
  {
   "cell_type": "code",
   "execution_count": 13,
   "id": "7466dc46",
   "metadata": {
    "id": "7466dc46",
    "outputId": "dfbacebb-0bc6-4632-9a09-a440f57597de"
   },
   "outputs": [
    {
     "name": "stdout",
     "output_type": "stream",
     "text": [
      "    *\n",
      "   **\n",
      "  ***\n",
      " ****\n",
      "*****\n"
     ]
    }
   ],
   "source": [
    "\n",
    "n = 5\n",
    "for i in range(1, n + 1):\n",
    "    for j in range(n - 1, i - 1, -1):\n",
    "        print(\" \", end=\"\")\n",
    "    for k in range(1, i + 1):\n",
    "        print(\"*\", end=\"\")\n",
    "    print()"
   ]
  },
  {
   "cell_type": "code",
   "execution_count": 14,
   "id": "d35a630a",
   "metadata": {
    "id": "d35a630a",
    "outputId": "1ff935d0-8b6a-4c41-8016-fe12b62017a7"
   },
   "outputs": [
    {
     "name": "stdout",
     "output_type": "stream",
     "text": [
      " *****\n",
      "  ****\n",
      "   ***\n",
      "    **\n",
      "     *\n",
      "      \n"
     ]
    }
   ],
   "source": [
    "n = 6\n",
    "for i in range(1, n + 1):\n",
    "    for j in range(1,i+1):\n",
    "        print(\" \", end=\"\")\n",
    "    for k in range(n - 1, i - 1, -1):\n",
    "        print(\"*\", end=\"\")\n",
    "    print()"
   ]
  },
  {
   "cell_type": "code",
   "execution_count": 15,
   "id": "a0b6ee89",
   "metadata": {
    "id": "a0b6ee89",
    "outputId": "df4528ae-b8ba-4a49-e10a-4ab1026b0864"
   },
   "outputs": [
    {
     "name": "stdout",
     "output_type": "stream",
     "text": [
      "****\n",
      "****\n",
      "****\n"
     ]
    }
   ],
   "source": [
    "\n",
    "for i in range(1,4):\n",
    "    for j in range(1,5):\n",
    "        print(\"*\", end=\"\")\n",
    "    print()"
   ]
  },
  {
   "cell_type": "code",
   "execution_count": 16,
   "id": "81808d2c",
   "metadata": {
    "id": "81808d2c",
    "outputId": "9ade724c-634a-40ac-ea33-75c90db3f100"
   },
   "outputs": [
    {
     "name": "stdout",
     "output_type": "stream",
     "text": [
      " *\n",
      " ***\n",
      " *****\n",
      " *******\n",
      " *********\n",
      " ***********\n",
      " *************\n",
      " ***************\n",
      " *****************\n",
      " *******************\n"
     ]
    }
   ],
   "source": [
    "p_height = 5\n",
    "min_stars = 1\n",
    "for i in range(p_height):\n",
    "    for j in range(p_height - 1, i, -1):\n",
    "        print(\" \", end=\"\")\n",
    "        for k in range(min_stars):\n",
    "            print(\"*\", end=\"\")\n",
    "        min_stars += 2\n",
    "        print()\n"
   ]
  },
  {
   "cell_type": "code",
   "execution_count": 17,
   "id": "1cac938f",
   "metadata": {
    "id": "1cac938f",
    "outputId": "81fcf44f-4289-4be4-fb73-75be0a072dd2"
   },
   "outputs": [
    {
     "name": "stdout",
     "output_type": "stream",
     "text": [
      "    *\n",
      "   ***\n",
      "  *****\n",
      " *******\n",
      "*********\n"
     ]
    }
   ],
   "source": [
    "p_height = 5\n",
    "min_stars = 1\n",
    "\n",
    "for i in range(p_height):\n",
    "    for j in range(p_height - 1, i, -1):\n",
    "        print(\" \", end=\"\")\n",
    "    for k in range(min_stars):\n",
    "        print(\"*\", end=\"\")\n",
    "    min_stars += 2\n",
    "    print()"
   ]
  },
  {
   "cell_type": "code",
   "execution_count": 18,
   "id": "54b346cd",
   "metadata": {
    "id": "54b346cd",
    "outputId": "70b22bec-577a-438c-d558-c5a98edc166a"
   },
   "outputs": [
    {
     "name": "stdout",
     "output_type": "stream",
     "text": [
      "        * \n",
      "      * * * \n",
      "    * * * * * \n",
      "  * * * * * * * \n",
      "* * * * * * * * * \n"
     ]
    }
   ],
   "source": [
    "n = 5\n",
    "for i in range(n):\n",
    "    for j in range(n - i - 1):\n",
    "        print(\" \", end=\" \")\n",
    "    for j in range(2 * i + 1):\n",
    "        print(\"*\", end=\" \")\n",
    "    print()"
   ]
  },
  {
   "cell_type": "code",
   "execution_count": 19,
   "id": "162b8720",
   "metadata": {},
   "outputs": [
    {
     "name": "stdout",
     "output_type": "stream",
     "text": [
      "        * \n",
      "      * * * \n",
      "    * * * * * \n",
      "  * * * * * * * \n",
      "* * * * * * * * * \n",
      "  * * * * * * * \n",
      "    * * * * * \n",
      "      * * * \n",
      "        * \n"
     ]
    }
   ],
   "source": [
    "n = 5\n",
    "for i in range(n):\n",
    "    for j in range(n - i - 1):\n",
    "        print(\" \", end=\" \")\n",
    "    for j in range(2 * i + 1):\n",
    "        print(\"*\", end=\" \")\n",
    "    print()\n",
    "\n",
    "\n",
    "for i in range(n - 2, -1, -1):\n",
    "    for j in range(n - i - 1):\n",
    "        print(\" \", end=\" \")\n",
    "    for j in range(2 * i + 1):\n",
    "        print(\"*\", end=\" \")\n",
    "    print()"
   ]
  },
  {
   "cell_type": "code",
   "execution_count": 20,
   "id": "f6977a40",
   "metadata": {},
   "outputs": [
    {
     "name": "stdout",
     "output_type": "stream",
     "text": [
      "        * \n",
      "      *   * \n",
      "    *       * \n",
      "  *           * \n",
      "*               * \n",
      "  *           * \n",
      "    *       * \n",
      "      *   * \n",
      "        * \n"
     ]
    }
   ],
   "source": [
    "n = 5  # Height of top half\n",
    "\n",
    "# Top half\n",
    "for i in range(n):\n",
    "    for j in range(n - i - 1):\n",
    "        print(\" \", end=\" \")\n",
    "    for j in range(2 * i + 1):\n",
    "        if j == 0 or j == 2 * i:\n",
    "            print(\"*\", end=\" \")\n",
    "        else:\n",
    "            print(\" \", end=\" \")\n",
    "    print()\n",
    "\n",
    "# Bottom half\n",
    "for i in range(n - 2, -1, -1):\n",
    "    for j in range(n - i - 1):\n",
    "        print(\" \", end=\" \")\n",
    "    for j in range(2 * i + 1):\n",
    "        if j == 0 or j == 2 * i:\n",
    "            print(\"*\", end=\" \")\n",
    "        else:\n",
    "            print(\" \", end=\" \")\n",
    "    print()\n"
   ]
  },
  {
   "cell_type": "code",
   "execution_count": 21,
   "id": "9c3fba41",
   "metadata": {
    "id": "9c3fba41",
    "outputId": "c8d60a4c-12a7-48e6-fc5e-910f65a88dd0"
   },
   "outputs": [
    {
     "name": "stdout",
     "output_type": "stream",
     "text": [
      "* * * * * \n",
      "*       * \n",
      "*       * \n",
      "*       * \n",
      "* * * * * \n"
     ]
    }
   ],
   "source": [
    "n = 5\n",
    "for i in range(n):\n",
    "    for j in range(n):\n",
    "        if i == 0 or i == n - 1 or j==0 or j==n-1 :\n",
    "            print(\"*\", end=\" \")\n",
    "        else:\n",
    "            print(\" \", end=\" \")\n",
    "    print()"
   ]
  },
  {
   "cell_type": "code",
   "execution_count": 22,
   "id": "e58b90e8",
   "metadata": {
    "id": "e58b90e8",
    "outputId": "64166fab-3be9-487e-af30-5d8c881e8cb0"
   },
   "outputs": [
    {
     "name": "stdout",
     "output_type": "stream",
     "text": [
      "* * * * * * * * * * * * * * * \n",
      "*                           * \n",
      "*                           * \n",
      "*                           * \n",
      "* * * * * * * * * * * * * * * \n"
     ]
    }
   ],
   "source": [
    "r = 5\n",
    "c = 15\n",
    "for i in range(r):\n",
    "    for j in range(c):\n",
    "        if i == 0 or i == r - 1 or j == 0 or j == c - 1:\n",
    "            print(\"*\", end=\" \")\n",
    "        else:\n",
    "            print(\" \", end=\" \")\n",
    "    print()"
   ]
  },
  {
   "cell_type": "code",
   "execution_count": 23,
   "id": "8d68275f",
   "metadata": {
    "id": "8d68275f",
    "outputId": "b5ded777-83ea-4b48-868e-027ca33fe63c"
   },
   "outputs": [
    {
     "name": "stdout",
     "output_type": "stream",
     "text": [
      "* * * * \n",
      "* * * * \n",
      "* * * * \n"
     ]
    }
   ],
   "source": [
    "r=3\n",
    "c=4\n",
    "for i in range(r):\n",
    "    for j in range(c):\n",
    "        print(\"*\",end=' ')\n",
    "    print()"
   ]
  },
  {
   "cell_type": "code",
   "execution_count": 24,
   "id": "db28fe7b",
   "metadata": {
    "id": "db28fe7b",
    "outputId": "aeb47ecf-72a7-4ca4-9246-6cf71ab9d774"
   },
   "outputs": [
    {
     "name": "stdout",
     "output_type": "stream",
     "text": [
      "*-*-*-\n",
      "*-*-*-\n",
      "*-*-*-\n"
     ]
    }
   ],
   "source": [
    "r=3\n",
    "c=3\n",
    "for i in range(r):\n",
    "    for j in range(c):\n",
    "        print(\"*\",end='-')\n",
    "    print()"
   ]
  },
  {
   "cell_type": "code",
   "execution_count": 25,
   "id": "e003ce1b",
   "metadata": {
    "id": "e003ce1b",
    "outputId": "8fa1498e-7e45-400b-ab9f-19109c6d62bb"
   },
   "outputs": [
    {
     "name": "stdout",
     "output_type": "stream",
     "text": [
      "*-*-*\n",
      "*-*-*\n",
      "*-*-*\n"
     ]
    }
   ],
   "source": [
    "r=3\n",
    "c=3\n",
    "for i in range(r):\n",
    "    for j in range(c-1):\n",
    "        print(\"*\",end='-')\n",
    "    print(\"*\")"
   ]
  },
  {
   "cell_type": "code",
   "execution_count": 26,
   "id": "59779f6f",
   "metadata": {
    "id": "59779f6f",
    "outputId": "1eb49cfb-a7b2-48c0-b9a7-ab68b4000e72"
   },
   "outputs": [
    {
     "name": "stdout",
     "output_type": "stream",
     "text": [
      "*-*-*\n",
      "*-*-*\n",
      "*-*-*\n"
     ]
    }
   ],
   "source": [
    "r=3\n",
    "c=3\n",
    "for i in range(r):\n",
    "    for j in range(c):\n",
    "        print(\"*\",end='')\n",
    "        if j!=c-1:\n",
    "           print(\"-\",end=\"\")\n",
    "    print()"
   ]
  },
  {
   "cell_type": "code",
   "execution_count": 27,
   "id": "29840ac1",
   "metadata": {
    "id": "29840ac1",
    "outputId": "806dce6c-782c-44fb-83ad-1db5667d2f8d"
   },
   "outputs": [
    {
     "name": "stdout",
     "output_type": "stream",
     "text": [
      "*-*-*-*-*-*-*-*-*-*-*-*-*-*-*-*-*-*-*-*-*-*-*-*-*-*-*-*-*-*\n",
      "*-*-*-*-*-*-*-*-*-*-*-*-*-*-*-*-*-*-*-*-*-*-*-*-*-*-*-*-*-*\n",
      "*-*-*-*-*-*-*-*-*-*-*-*-*-*-*-*-*-*-*-*-*-*-*-*-*-*-*-*-*-*\n"
     ]
    }
   ],
   "source": [
    "r=3\n",
    "c=30\n",
    "for i in range(r):\n",
    "    for j in range(c-1):\n",
    "        print(\"*\",end='-')\n",
    "    print(\"*\")"
   ]
  },
  {
   "cell_type": "code",
   "execution_count": 28,
   "id": "39373a45",
   "metadata": {
    "id": "39373a45",
    "outputId": "b2d9aff7-3630-4f52-e10b-411a8ff9c7de"
   },
   "outputs": [
    {
     "name": "stdout",
     "output_type": "stream",
     "text": [
      "*-*-*\n",
      "*-*-*\n",
      "*-*-*\n",
      "*-*-*\n",
      "*-*-*\n",
      "*-*-*\n",
      "*-*-*\n",
      "*-*-*\n",
      "*-*-*\n",
      "*-*-*\n",
      "*-*-*\n",
      "*-*-*\n",
      "*-*-*\n",
      "*-*-*\n",
      "*-*-*\n"
     ]
    }
   ],
   "source": [
    "r=15\n",
    "c=3\n",
    "for i in range(r):\n",
    "    for j in range(c-1):\n",
    "        print(\"*\",end='-')\n",
    "    print(\"*\")"
   ]
  },
  {
   "cell_type": "code",
   "execution_count": 29,
   "id": "e4ec7e61",
   "metadata": {
    "id": "e4ec7e61",
    "outputId": "3a769744-c0f0-4652-a403-6a588b4d4f42"
   },
   "outputs": [
    {
     "name": "stdout",
     "output_type": "stream",
     "text": [
      "***\n",
      "**\n",
      "*\n"
     ]
    }
   ],
   "source": [
    "c=3\n",
    "for i in range(c):\n",
    "    for j in range(c-i):\n",
    "        print(\"*\",end=\"\")\n",
    "    print()"
   ]
  },
  {
   "cell_type": "code",
   "execution_count": 30,
   "id": "9b9f05ea",
   "metadata": {
    "id": "9b9f05ea",
    "outputId": "b7baa60b-ba35-48dd-f515-c6163bef19b9"
   },
   "outputs": [
    {
     "name": "stdout",
     "output_type": "stream",
     "text": [
      "* * * * * \n",
      "    *     \n",
      "    *     \n",
      "    *     \n",
      "* * * * * \n"
     ]
    }
   ],
   "source": [
    "n = 5\n",
    "m=n//2\n",
    "for i in range(n):\n",
    "    for j in range(n):\n",
    "        if i ==0 or i==n-1 or j==m:\n",
    "            print(\"*\", end=\" \")\n",
    "        else:\n",
    "            print(\" \", end=\" \")\n",
    "    print()"
   ]
  },
  {
   "cell_type": "code",
   "execution_count": 31,
   "id": "0b322c6c",
   "metadata": {
    "id": "0b322c6c",
    "outputId": "b0606d37-3f44-4ebb-c2ab-6c1c93a9e4f8"
   },
   "outputs": [
    {
     "name": "stdout",
     "output_type": "stream",
     "text": [
      "* * * * * \n",
      "*         \n",
      "* * * * * \n",
      "*         \n",
      "* * * * * \n"
     ]
    }
   ],
   "source": [
    "n = 5\n",
    "m=n//2\n",
    "for i in range(n):\n",
    "    for j in range(n):\n",
    "        if i == n-1 or j == 0 or i==0 or i==m:\n",
    "            print(\"*\", end=\" \")\n",
    "        else:\n",
    "            print(\" \", end=\" \")\n",
    "    print()"
   ]
  },
  {
   "cell_type": "code",
   "execution_count": 32,
   "id": "da91eca0",
   "metadata": {},
   "outputs": [
    {
     "name": "stdout",
     "output_type": "stream",
     "text": [
      "*       * \n",
      "*       * \n",
      "*       * \n",
      "*       * \n",
      "* * * * * \n"
     ]
    }
   ],
   "source": [
    "n = 5\n",
    "m=n//2\n",
    "for i in range(n):\n",
    "    for j in range(n):\n",
    "        if i == n-1 or j == 0 or j==n-1 :\n",
    "            print(\"*\", end=\" \")\n",
    "        else:\n",
    "            print(\" \", end=\" \")\n",
    "    print()"
   ]
  },
  {
   "cell_type": "code",
   "execution_count": 33,
   "id": "0d23aeb4",
   "metadata": {},
   "outputs": [
    {
     "name": "stdout",
     "output_type": "stream",
     "text": [
      "*         \n",
      "*         \n",
      "*         \n",
      "*         \n",
      "* * * * * \n"
     ]
    }
   ],
   "source": [
    "n = 5\n",
    "m=n//2\n",
    "for i in range(n):\n",
    "    for j in range(n):\n",
    "        if i == n-1 or j == 0  :\n",
    "            print(\"*\", end=\" \")\n",
    "        else:\n",
    "            print(\" \", end=\" \")\n",
    "    print()"
   ]
  },
  {
   "cell_type": "code",
   "execution_count": 34,
   "id": "1bb920b2",
   "metadata": {},
   "outputs": [
    {
     "name": "stdout",
     "output_type": "stream",
     "text": [
      "*     *\n",
      " *   * \n",
      "  * *  \n",
      "   *   \n"
     ]
    }
   ],
   "source": [
    "rows = 4 \n",
    "\n",
    "for i in range(rows):\n",
    "    for j in range(rows * 2 - 1):\n",
    "        if j == i or j == (2 * rows - 2 - i):\n",
    "            print(\"*\", end=\"\")\n",
    "        else:\n",
    "            print(\" \", end=\"\")\n",
    "    print()\n"
   ]
  },
  {
   "cell_type": "code",
   "execution_count": 35,
   "id": "775fb07c",
   "metadata": {},
   "outputs": [
    {
     "name": "stdout",
     "output_type": "stream",
     "text": [
      "        * \n",
      "        * \n",
      "        * \n",
      "        * \n",
      "* * * * * \n"
     ]
    }
   ],
   "source": [
    "n = 5\n",
    "m=n//2\n",
    "for i in range(n):\n",
    "    for j in range(n):\n",
    "        if j == n-1 or i==n-1  :\n",
    "            print(\"*\", end=\" \")\n",
    "        else:\n",
    "            print(\" \", end=\" \")\n",
    "    print()"
   ]
  },
  {
   "cell_type": "code",
   "execution_count": 36,
   "id": "6ac06ff6",
   "metadata": {},
   "outputs": [
    {
     "name": "stdout",
     "output_type": "stream",
     "text": [
      "* * * * * * \n",
      "* * * * * * \n",
      "* * * * * * \n",
      "* * * * * * \n",
      "* * * * * * \n",
      "* * * * * * \n"
     ]
    }
   ],
   "source": [
    "for i in range(6):\n",
    "    for j in range(6):\n",
    "        print(\"*\",end=\" \")\n",
    "    print()"
   ]
  },
  {
   "cell_type": "code",
   "execution_count": 37,
   "id": "efc66f2c",
   "metadata": {},
   "outputs": [
    {
     "name": "stdout",
     "output_type": "stream",
     "text": [
      "     *\n",
      "    *\n",
      "   *\n",
      "  *\n",
      " *\n",
      "*\n",
      "*\n",
      " *\n",
      "  *\n",
      "   *\n",
      "    *\n",
      "     *\n",
      "     *\n",
      "    *\n",
      "   *\n",
      "  *\n",
      " *\n",
      "*\n",
      "*\n",
      " *\n",
      "  *\n",
      "   *\n",
      "    *\n",
      "     *\n"
     ]
    }
   ],
   "source": [
    "n = 6  \n",
    "\n",
    "for i in range(n):\n",
    "    for j in range(n - i - 1):\n",
    "        print(\" \", end=\"\")  \n",
    "    print(\"*\")  \n",
    "\n",
    "\n",
    "for i in range(n):\n",
    "    for j in range(i):\n",
    "        print(\" \", end=\"\") \n",
    "    print(\"*\")  \n",
    "    \n",
    "    \n",
    "for i in range(n):\n",
    "    for j in range(n - i - 1):\n",
    "        print(\" \", end=\"\")  \n",
    "    print(\"*\") \n",
    "    \n",
    "for i in range(n):\n",
    "    for j in range(i):\n",
    "        print(\" \", end=\"\") \n",
    "    print(\"*\")  \n",
    "    "
   ]
  },
  {
   "cell_type": "code",
   "execution_count": null,
   "id": "4c997eb2",
   "metadata": {},
   "outputs": [
    {
     "name": "stdout",
     "output_type": "stream",
     "text": [
      "*\n",
      " *\n",
      "  *\n",
      "   *\n",
      "    *\n",
      "     *\n",
      "     *\n",
      "    *\n",
      "   *\n",
      "  *\n",
      " *\n",
      "*\n",
      "*\n",
      " *\n",
      "  *\n",
      "   *\n",
      "    *\n",
      "     *\n",
      "     *\n",
      "    *\n",
      "   *\n",
      "  *\n",
      " *\n",
      "*\n"
     ]
    }
   ],
   "source": [
    "n=6\n",
    "\n",
    "for i in range(n):\n",
    "    for j in range(i):\n",
    "        print(\" \", end=\"\") \n",
    "    print(\"*\")  \n",
    "    \n",
    "    \n",
    "for i in range(n):\n",
    "    for j in range(n - i - 1):\n",
    "        print(\" \", end=\"\")  \n",
    "    print(\"*\") \n",
    "    \n",
    "    \n",
    "for i in range(n):\n",
    "    for j in range(i):\n",
    "        print(\" \", end=\"\") \n",
    "    print(\"*\")  \n",
    "\n",
    "\n",
    "for i in range(n):\n",
    "    for j in range(n - i - 1):\n",
    "        print(\" \", end=\"\")  \n",
    "    print(\"*\")\n",
    "    "
   ]
  }
 ],
 "metadata": {
  "colab": {
   "provenance": []
  },
  "kernelspec": {
   "display_name": "Python 3",
   "language": "python",
   "name": "python3"
  },
  "language_info": {
   "codemirror_mode": {
    "name": "ipython",
    "version": 3
   },
   "file_extension": ".py",
   "mimetype": "text/x-python",
   "name": "python",
   "nbconvert_exporter": "python",
   "pygments_lexer": "ipython3",
   "version": "3.12.10"
  }
 },
 "nbformat": 4,
 "nbformat_minor": 5
}
